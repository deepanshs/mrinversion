{
  "cells": [
    {
      "cell_type": "code",
      "execution_count": null,
      "metadata": {
        "collapsed": false
      },
      "outputs": [],
      "source": [
        "# This cell is added by sphinx-gallery\n\n%matplotlib inline\n\nimport mrinversion\nprint(f'You are using mrinversion v{mrinversion.__version__}')"
      ]
    },
    {
      "cell_type": "markdown",
      "metadata": {},
      "source": [
        "\n# 0.05 Li2O \u2022 0.95 SiO2 MAS-ETA\n"
      ]
    },
    {
      "cell_type": "markdown",
      "metadata": {},
      "source": [
        "The following example is an application of the statistical learning method in\ndetermining the distribution of the Si-29 echo train decay constants in glasses.\n\nImport all relevant packages.\n\n"
      ]
    },
    {
      "cell_type": "code",
      "execution_count": null,
      "metadata": {
        "collapsed": false
      },
      "outputs": [],
      "source": [
        "import csdmpy as cp\nimport matplotlib.pyplot as plt\nimport numpy as np\n\nfrom mrinversion.kernel import relaxation\nfrom mrinversion.linear_model import LassoFistaCV, TSVDCompression\n\nplt.rcParams['pdf.fonttype'] = 42   # For using plots in Illustrator\n\ndef plot2D(csdm_object, **kwargs):\n    plt.figure(figsize=(4, 3))\n    csdm_object.plot(**kwargs)\n    plt.tight_layout()\n    plt.show()"
      ]
    },
    {
      "cell_type": "markdown",
      "metadata": {},
      "source": [
        "## Dataset setup\n\n### Import the dataset\n\nLoad the dataset as a CSDM data-object.\n\n"
      ]
    },
    {
      "cell_type": "code",
      "execution_count": null,
      "metadata": {
        "collapsed": false
      },
      "outputs": [],
      "source": [
        "# The 2D MAF dataset in csdm format\ndomain = \"https://www.ssnmr.org/sites/default/files/mrsimulator\"\nfilename = f\"{domain}/MAS_SE_PIETA_5%25Li2O_FT.csdf\"\ndata_object = cp.load(filename)\n\n# Inversion only requires the real part of the complex dataset.\ndata_object = data_object.real\nsigma = 1110.521  # data standard deviation\n\n# Convert the MAS dimension from Hz to ppm.\ndata_object.dimensions[0].to(\"ppm\", \"nmr_frequency_ratio\")\nplot2D(data_object,cmap=\"gist_ncar_r\")"
      ]
    },
    {
      "cell_type": "markdown",
      "metadata": {},
      "source": [
        "There are two dimensions in this dataset. The dimension at index 0, the horizontal\ndimension in the figure, is the MAS dimension, while the dimension at\nindex 1, the vertical dimension, is the signal decay from relaxation.\n\n### Prepping the data for inversion\n**Step-1: Data Alignment**\n\nWhen using the csdm objects with the ``mrinversion`` package, the dimension at index\n0 must be the dimension undergoing the linear inversion. In this example, we\ninvert the signal decay from relaxation, that is, dimension-1. The first step is to\nswap the axes using a data transpose.\n\n"
      ]
    },
    {
      "cell_type": "code",
      "execution_count": null,
      "metadata": {
        "collapsed": false
      },
      "outputs": [],
      "source": [
        "data_object = data_object.T"
      ]
    },
    {
      "cell_type": "markdown",
      "metadata": {},
      "source": [
        "**Step-2: Optimization**\n\nNotice, that the signal from the 2D T2-MAS dataset occupies a small fraction of the\ntwo-dimensional grid. Though you may choose to proceed with the inversion\ndirectly onto this dataset, it is not computationally optimum. For optimum\nperformance, trim the dataset to the region of relevant signals. Use the appropriate\narray indexing/slicing to select the signal region.\n\n"
      ]
    },
    {
      "cell_type": "code",
      "execution_count": null,
      "metadata": {
        "collapsed": false
      },
      "outputs": [],
      "source": [
        "data_object_truncated = data_object[:, 1220:-1220]\nplot2D(data_object_truncated,cmap=\"gist_ncar_r\")"
      ]
    },
    {
      "cell_type": "markdown",
      "metadata": {},
      "source": [
        "## Linear Inversion setup\n\n### Dimension setup\n\nIn a generic linear-inverse problem, one needs to define two sets of dimensions---\nthe dimensions undergoing a linear transformation, and the dimensions onto which\nthe inversion method transforms the data. For T2 inversion, the two sets of\ndimensions are the signal decay time dimension (``kernel dimension``) and the\nreciprocal T2 (``inverse dimension``).\n\n"
      ]
    },
    {
      "cell_type": "code",
      "execution_count": null,
      "metadata": {
        "collapsed": false
      },
      "outputs": [],
      "source": [
        "data_object_truncated.dimensions[0].to(\"s\")  # set coordinates to 's'\nkernel_dimension = data_object_truncated.dimensions[0]"
      ]
    },
    {
      "cell_type": "markdown",
      "metadata": {},
      "source": [
        "### Generating the kernel\n\nUse the :class:`~mrinversion.kernel.relaxation.T2` class to generate a T2 object\nand then use its ``kernel`` method to generate the T2 relaxation kernel..\n\n"
      ]
    },
    {
      "cell_type": "code",
      "execution_count": null,
      "metadata": {
        "collapsed": false
      },
      "outputs": [],
      "source": [
        "relaxT2 = relaxation.T2(\n    kernel_dimension=kernel_dimension,\n    inverse_dimension=dict(\n        count=32, minimum=\"1e-3 s\", maximum=\"1e4 s\", scale=\"log\", label=\"log (T2 / s)\"\n    ),\n)\ninverse_dimension = relaxT2.inverse_dimension\nK = relaxT2.kernel(supersampling=20)"
      ]
    },
    {
      "cell_type": "markdown",
      "metadata": {},
      "source": [
        "### Data Compression\n\nData compression is optional but recommended. It may reduce the size of the\ninverse problem and, thus, further computation time.\n\n"
      ]
    },
    {
      "cell_type": "code",
      "execution_count": null,
      "metadata": {
        "collapsed": false
      },
      "outputs": [],
      "source": [
        "new_system = TSVDCompression(K, data_object_truncated)\ncompressed_K = new_system.compressed_K\ncompressed_s = new_system.compressed_s\n\nprint(f\"truncation_index = {new_system.truncation_index}\")"
      ]
    },
    {
      "cell_type": "markdown",
      "metadata": {},
      "source": [
        "## Solving the inverse problem\n\n### FISTA LASSO cross-validation\n\nWe solve the inverse Laplace problem using the statistical learning ``FISTALassoCV``\nmethod over a range of \u03bb values and determine the best T2 parameter distribution for\nthe given 2D T2-MAS dataset.\n\n"
      ]
    },
    {
      "cell_type": "code",
      "execution_count": null,
      "metadata": {
        "collapsed": false
      },
      "outputs": [],
      "source": [
        "# setup the pre-defined range of alpha and lambda values\nlambdas = 10 ** (-4 + 5 * (np.arange(32) / 31))\n\n# setup the smooth lasso cross-validation class\ns_lasso = LassoFistaCV(\n    lambdas=lambdas,  # A numpy array of lambda values.\n    sigma=sigma,  # data standard deviation\n    folds=5,  # The number of folds in n-folds cross-validation.\n    inverse_dimension=inverse_dimension,  # previously defined inverse dimensions.\n)\n\n# run the fit method on the compressed kernel and compressed data.\ns_lasso.fit(K=compressed_K, s=compressed_s)"
      ]
    },
    {
      "cell_type": "markdown",
      "metadata": {},
      "source": [
        "### The optimum hyper-parameters\n\nUse the :attr:`~mrinversion.linear_model.LassoFistaCV.hyperparameters` attribute of\nthe instance for the optimum hyper-parameters, $\\lambda$, determined from the\ncross-validation.\n\n"
      ]
    },
    {
      "cell_type": "code",
      "execution_count": null,
      "metadata": {
        "collapsed": false
      },
      "outputs": [],
      "source": [
        "print(s_lasso.hyperparameters)"
      ]
    },
    {
      "cell_type": "markdown",
      "metadata": {},
      "source": [
        "### The cross-validation curve\n\n"
      ]
    },
    {
      "cell_type": "code",
      "execution_count": null,
      "metadata": {
        "collapsed": false
      },
      "outputs": [],
      "source": [
        "plt.figure(figsize=(4, 3))\ns_lasso.cv_plot()\nplt.tight_layout()\nplt.show()"
      ]
    },
    {
      "cell_type": "markdown",
      "metadata": {},
      "source": [
        "### The optimum solution\n\n"
      ]
    },
    {
      "cell_type": "code",
      "execution_count": null,
      "metadata": {
        "collapsed": false
      },
      "outputs": [],
      "source": [
        "f_sol = s_lasso.f\n\nlevels = np.arange(15) / 15 + 0.1\nplt.figure(figsize=(3.85, 2.75))  # set the figure size\nax = plt.subplot(projection=\"csdm\")\ncb=ax.contourf(f_sol / f_sol.max(), levels=levels, cmap=\"jet_r\")\nax.set_ylim(-70, -130)\nax.set_xlim(-3, 2.5)\nplt.title(\"5Li:95Si\")\nax.set_xlabel(\"$\\log(\\lambda^{-1}\\,/\\,$s)\")\nax.set_ylabel(\"Frequency / ppm\")\nplt.grid(linestyle=\"--\", alpha=0.75)\nplt.colorbar(cb,ticks=[0,.1,.2,.3,.4,.5,.6,.7,.8,.9,1.0,1.1])\nplt.tight_layout()\nplt.savefig(\"5Li-95Si.pdf\")\nplt.show()"
      ]
    },
    {
      "cell_type": "markdown",
      "metadata": {},
      "source": [
        "### The fit residuals\n\nTo calculate the residuals between the data and predicted data(fit), use the\n:meth:`~mrinversion.linear_model.LassoFistaCV.residuals` method, as follows,\n\n"
      ]
    },
    {
      "cell_type": "code",
      "execution_count": null,
      "metadata": {
        "collapsed": false
      },
      "outputs": [],
      "source": [
        "residuals = s_lasso.residuals(K=K, s=data_object_truncated)\nplot2D(residuals,cmap=\"gist_ncar_r\")"
      ]
    },
    {
      "cell_type": "markdown",
      "metadata": {},
      "source": [
        "The standard deviation of the residuals is\n\n"
      ]
    },
    {
      "cell_type": "code",
      "execution_count": null,
      "metadata": {
        "collapsed": false
      },
      "outputs": [],
      "source": [
        "residuals.std()"
      ]
    },
    {
      "cell_type": "markdown",
      "metadata": {},
      "source": [
        "### Saving the solution\n\nTo serialize the solution (nuclear shielding tensor parameter distribution) to a\nfile, use the `save()` method of the CSDM object, for example,\n\n"
      ]
    },
    {
      "cell_type": "code",
      "execution_count": null,
      "metadata": {
        "collapsed": false
      },
      "outputs": [],
      "source": [
        "f_sol.save(\"5Li-95Si-T2_inverse.csdf\")  # save the solution\nresiduals.save(\"5Li-95Si-T2-residue.csdf\")  # save the residuals"
      ]
    }
  ],
  "metadata": {
    "kernelspec": {
      "display_name": "Python 3",
      "language": "python",
      "name": "python3"
    },
    "language_info": {
      "codemirror_mode": {
        "name": "ipython",
        "version": 3
      },
      "file_extension": ".py",
      "mimetype": "text/x-python",
      "name": "python",
      "nbconvert_exporter": "python",
      "pygments_lexer": "ipython3",
      "version": "3.9.13"
    }
  },
  "nbformat": 4,
  "nbformat_minor": 0
}