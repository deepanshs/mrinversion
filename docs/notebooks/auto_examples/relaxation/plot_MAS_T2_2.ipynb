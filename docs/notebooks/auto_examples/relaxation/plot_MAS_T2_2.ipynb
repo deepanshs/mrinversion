{
  "cells": [
    {
      "cell_type": "code",
      "execution_count": null,
      "metadata": {
        "collapsed": false
      },
      "outputs": [],
      "source": [
        "# This cell is added by sphinx-gallery\n\n%matplotlib inline\n\nimport mrinversion\nprint(f'You are using mrinversion v{mrinversion.__version__}')"
      ]
    },
    {
      "cell_type": "markdown",
      "metadata": {},
      "source": [
        "\n# 0.05 Na2O \u2022 0.95 SiO2 MAS-ETA\n"
      ]
    },
    {
      "cell_type": "markdown",
      "metadata": {},
      "source": [
        "The following example is an application of the statistical learning method in\ndetermining the distribution of the T2 relaxation constants in glasses.\n\nImport all relevant packages.\n\n"
      ]
    },
    {
      "cell_type": "code",
      "execution_count": null,
      "metadata": {
        "collapsed": false
      },
      "outputs": [],
      "source": [
        "import csdmpy as cp\nimport matplotlib.pyplot as plt\nimport numpy as np\n\nfrom mrinversion.kernel import relaxation\nfrom mrinversion.linear_model import LassoFistaCV, TSVDCompression\n\n\ndef plot2D(csdm_object, **kwargs):\n    plt.figure(figsize=(4, 3))\n    csdm_object.plot(**kwargs)\n    plt.tight_layout()\n    plt.show()"
      ]
    },
    {
      "cell_type": "markdown",
      "metadata": {},
      "source": [
        "## Dataset setup\nImport the dataset\n''''''''''''''''''\nLoad the dataset as a CSDM data-object.\n\n"
      ]
    },
    {
      "cell_type": "code",
      "execution_count": null,
      "metadata": {
        "collapsed": false
      },
      "outputs": [],
      "source": [
        "# The 2D MAF dataset in csdm format\ndomain = \"https://www.ssnmr.org/sites/default/files/mrsimulator\"\nfilename = f\"{domain}/MAS_SE_PIETA_5%25Na2O_FT.csdf\"\ndata_object = cp.load(filename)\n\n# Inversion only requires the real part of the complex dataset.\ndata_object = data_object.real\nsigma = 1089.445  # data standard deviation\n\n# Convert the MAS dimension from Hz to ppm.\ndata_object.dimensions[0].to(\"ppm\", \"nmr_frequency_ratio\")\nplot2D(data_object)"
      ]
    },
    {
      "cell_type": "markdown",
      "metadata": {},
      "source": [
        "### Prepping the data for inversion\n\n"
      ]
    },
    {
      "cell_type": "code",
      "execution_count": null,
      "metadata": {
        "collapsed": false
      },
      "outputs": [],
      "source": [
        "data_object = data_object.T\ndata_object_truncated = data_object[:, 1220:-1220]\nplot2D(data_object_truncated)"
      ]
    },
    {
      "cell_type": "markdown",
      "metadata": {},
      "source": [
        "## Linear Inversion setup\nDimension setup\n'''''''''''''''\n\n"
      ]
    },
    {
      "cell_type": "code",
      "execution_count": null,
      "metadata": {
        "collapsed": false
      },
      "outputs": [],
      "source": [
        "data_object_truncated.dimensions[0].to(\"s\")  # set coordinates to 's'\nkernel_dimension = data_object_truncated.dimensions[0]"
      ]
    },
    {
      "cell_type": "markdown",
      "metadata": {},
      "source": [
        "### Generating the kernel\n\n"
      ]
    },
    {
      "cell_type": "code",
      "execution_count": null,
      "metadata": {
        "collapsed": false
      },
      "outputs": [],
      "source": [
        "relaxT2 = relaxation.T2(\n    kernel_dimension=kernel_dimension,\n    inverse_dimension=dict(\n        count=32, minimum=\"1e-3 s\", maximum=\"1e4 s\", scale=\"log\", label=\"log (T2 / s)\"\n    ),\n)\ninverse_dimension = relaxT2.inverse_dimension\nK = relaxT2.kernel(supersampling=20)"
      ]
    },
    {
      "cell_type": "markdown",
      "metadata": {},
      "source": [
        "### Data Compression\n\n"
      ]
    },
    {
      "cell_type": "code",
      "execution_count": null,
      "metadata": {
        "collapsed": false
      },
      "outputs": [],
      "source": [
        "new_system = TSVDCompression(K, data_object_truncated)\ncompressed_K = new_system.compressed_K\ncompressed_s = new_system.compressed_s\n\nprint(f\"truncation_index = {new_system.truncation_index}\")"
      ]
    },
    {
      "cell_type": "markdown",
      "metadata": {},
      "source": [
        "## Solving the inverse problem\nFISTA LASSO cross-validation\n'''''''''''''''''''''''''''''\n\n"
      ]
    },
    {
      "cell_type": "code",
      "execution_count": null,
      "metadata": {
        "collapsed": false
      },
      "outputs": [],
      "source": [
        "# setup the pre-defined range of alpha and lambda values\nlambdas = 10 ** (-4 + 5 * (np.arange(32) / 31))\n\n# setup the smooth lasso cross-validation class\ns_lasso = LassoFistaCV(\n    lambdas=lambdas,  # A numpy array of lambda values.\n    sigma=sigma,  # data standard deviation\n    folds=5,  # The number of folds in n-folds cross-validation.\n    inverse_dimension=inverse_dimension,  # previously defined inverse dimensions.\n)\n\n# run the fit method on the compressed kernel and compressed data.\ns_lasso.fit(K=compressed_K, s=compressed_s)"
      ]
    },
    {
      "cell_type": "markdown",
      "metadata": {},
      "source": [
        "### The optimum hyper-parameters\n\n"
      ]
    },
    {
      "cell_type": "code",
      "execution_count": null,
      "metadata": {
        "collapsed": false
      },
      "outputs": [],
      "source": [
        "print(s_lasso.hyperparameters)"
      ]
    },
    {
      "cell_type": "markdown",
      "metadata": {},
      "source": [
        "### The cross-validation curve\n\n"
      ]
    },
    {
      "cell_type": "code",
      "execution_count": null,
      "metadata": {
        "collapsed": false
      },
      "outputs": [],
      "source": [
        "plt.figure(figsize=(4, 3))\ns_lasso.cv_plot()\nplt.tight_layout()\nplt.show()"
      ]
    },
    {
      "cell_type": "markdown",
      "metadata": {},
      "source": [
        "### The optimum solution\n\n"
      ]
    },
    {
      "cell_type": "code",
      "execution_count": null,
      "metadata": {
        "collapsed": false
      },
      "outputs": [],
      "source": [
        "f_sol = s_lasso.f\n\nlevels = np.arange(15) / 15 + 0.1\nplt.figure(figsize=(4, 3))\nax = plt.subplot(projection=\"csdm\")\nax.contour(f_sol / f_sol.max(), levels=levels, cmap=\"jet_r\")\nax.set_ylim(-70, -130)\nax.set_xlim(-3, 2.5)\nplt.grid(linestyle=\"--\", alpha=0.75)\nplt.tight_layout()\nplt.show()"
      ]
    },
    {
      "cell_type": "markdown",
      "metadata": {},
      "source": [
        "### The fit residuals\n\n"
      ]
    },
    {
      "cell_type": "code",
      "execution_count": null,
      "metadata": {
        "collapsed": false
      },
      "outputs": [],
      "source": [
        "residuals = s_lasso.residuals(K=K, s=data_object_truncated)\nplot2D(residuals)"
      ]
    },
    {
      "cell_type": "markdown",
      "metadata": {},
      "source": [
        "The standard deviation of the residuals is\n\n"
      ]
    },
    {
      "cell_type": "code",
      "execution_count": null,
      "metadata": {
        "collapsed": false
      },
      "outputs": [],
      "source": [
        "residuals.std()"
      ]
    },
    {
      "cell_type": "markdown",
      "metadata": {},
      "source": [
        "### Saving the solution\n\n"
      ]
    },
    {
      "cell_type": "code",
      "execution_count": null,
      "metadata": {
        "collapsed": false
      },
      "outputs": [],
      "source": [
        "f_sol.save(\"T2_inverse.csdf\")  # save the solution\nresiduals.save(\"T2_residue.csdf\")  # save the residuals"
      ]
    }
  ],
  "metadata": {
    "kernelspec": {
      "display_name": "Python 3",
      "language": "python",
      "name": "python3"
    },
    "language_info": {
      "codemirror_mode": {
        "name": "ipython",
        "version": 3
      },
      "file_extension": ".py",
      "mimetype": "text/x-python",
      "name": "python",
      "nbconvert_exporter": "python",
      "pygments_lexer": "ipython3",
      "version": "3.8.11"
    }
  },
  "nbformat": 4,
  "nbformat_minor": 0
}