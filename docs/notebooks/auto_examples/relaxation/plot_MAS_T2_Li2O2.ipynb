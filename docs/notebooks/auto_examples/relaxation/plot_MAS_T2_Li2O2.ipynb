{
  "cells": [
    {
      "cell_type": "code",
      "execution_count": null,
      "metadata": {
        "collapsed": false
      },
      "outputs": [],
      "source": [
        "# This cell is added by sphinx-gallery\n\n%matplotlib inline\n\nimport mrinversion\nprint(f'You are using mrinversion v{mrinversion.__version__}')"
      ]
    },
    {
      "cell_type": "markdown",
      "metadata": {},
      "source": [
        "\n# 2D T2-MAS data of Li2O2 glass\n"
      ]
    },
    {
      "cell_type": "markdown",
      "metadata": {},
      "source": [
        "The following example is an application of the statistical learning method in\ndetermining the distribution of the nuclear shielding tensor parameters from a 2D\nmagic-angle flipping (MAF) spectrum. In this example, we use the 2D MAF spectrum\n[#f1]_ of $\\text{Rb}_2\\text{O}\\cdot2.25\\text{SiO}_2$ glass.\n\n## Before getting started\n\nImport all relevant packages.\n\n"
      ]
    },
    {
      "cell_type": "code",
      "execution_count": null,
      "metadata": {
        "collapsed": false
      },
      "outputs": [],
      "source": [
        "import csdmpy as cp\nimport matplotlib.pyplot as plt\nimport numpy as np\n\nfrom mrinversion.kernel import relaxation\nfrom mrinversion.linear_model import LassoFistaCV, TSVDCompression"
      ]
    },
    {
      "cell_type": "markdown",
      "metadata": {},
      "source": [
        "## Dataset setup\n\n### Import the dataset\n\nLoad the dataset as a CSDM data-object.\n\n"
      ]
    },
    {
      "cell_type": "code",
      "execution_count": null,
      "metadata": {
        "collapsed": false
      },
      "outputs": [],
      "source": [
        "# The 2D MAF dataset in csdm format\nfilename = \"T2MAS_5%Li2O.csdf\"\ndata_object = cp.load(filename)\n\n# For inversion, we only interest ourselves with the real part of the complex dataset.\ndata_object = data_object.real\n\n# Convert the MAS dimension from Hz to ppm.\ndata_object.dimensions[0].to(\"ppm\", \"nmr_frequency_ratio\")\n\nplt.figure(figsize=(4.5, 3.5))\ndata_object.plot()\nplt.show()"
      ]
    },
    {
      "cell_type": "markdown",
      "metadata": {},
      "source": [
        "There are two dimensions in this dataset. The dimension at index 0, the horizontal\ndimension in the figure, is the MAS dimension, while the dimension at\nindex 1, the vertical dimension, is the signal decay from relaxation.\n\n### Prepping the data for inversion\n**Step-1: Data Alignment**\n\nWhen using the csdm objects with the ``mrinversion`` package, the dimension at index\n0 must be the dimension undergoing the linear inversion. In this example, we plan to\ninvert the signal decay from relaxation, that is, dimension-1. The first step is to\nswap the axes using a transpose.\n\n"
      ]
    },
    {
      "cell_type": "code",
      "execution_count": null,
      "metadata": {
        "collapsed": false
      },
      "outputs": [],
      "source": [
        "data_object = data_object.T"
      ]
    },
    {
      "cell_type": "markdown",
      "metadata": {},
      "source": [
        "**Step-2: Optimization**\n\nNotice, the signal from the 2D T2-MAS dataset occupies a small fraction of the\ntwo-dimensional grid. Though you may choose to proceed with the inversion\ndirectly onto this dataset, it is not computationally optimum. For optimum\nperformance, trim the dataset to the region of relevant signals. Use the appropriate\narray indexing/slicing to select the signal region.\n\n"
      ]
    },
    {
      "cell_type": "code",
      "execution_count": null,
      "metadata": {
        "collapsed": false
      },
      "outputs": [],
      "source": [
        "data_object_truncated = data_object[:, 245:-245]\n\nplt.figure(figsize=(4.5, 3.5))\ndata_object_truncated.plot()\nplt.show()"
      ]
    },
    {
      "cell_type": "markdown",
      "metadata": {},
      "source": [
        "## Linear Inversion setup\n\n### Dimension setup\n\nIn a generic linear-inverse problem, one needs to define two sets of dimensions---\nthe dimensions undergoing a linear transformation, and the dimensions onto which\nthe inversion method transforms the data. For T2 inversion, the two sets of\ndimensions are the signal decay time dimension (kernel dimension) and the\nreciprocal `T2` (inverse dimension).\n\n"
      ]
    },
    {
      "cell_type": "code",
      "execution_count": null,
      "metadata": {
        "collapsed": false
      },
      "outputs": [],
      "source": [
        "data_object_truncated.dimensions[0].to(\"s\")  # set coordinates to 's'\nkernel_dimension = data_object_truncated.dimensions[0]"
      ]
    },
    {
      "cell_type": "markdown",
      "metadata": {},
      "source": [
        "### Generating the kernel\n\nUse the :class:`~mrinversion.kernel.relaxation.T2` class to generate a T2 kernel.\n\n"
      ]
    },
    {
      "cell_type": "code",
      "execution_count": null,
      "metadata": {
        "collapsed": false
      },
      "outputs": [],
      "source": [
        "relaxT2 = relaxation.T2(\n    kernel_dimension=kernel_dimension,\n    inverse_dimension=dict(\n        count=64, minimum=\"1e-3 s\", maximum=\"1e4 s\", scale=\"log\", label=\"log (T2 / s)\"\n    ),\n)\ninverse_dimension = relaxT2.inverse_dimension"
      ]
    },
    {
      "cell_type": "markdown",
      "metadata": {},
      "source": [
        "Use the :meth:`~mrinversion.kernel.relaxation.T2.kernel` method of the\ninstance to generate the T2 kernel.\n\n"
      ]
    },
    {
      "cell_type": "code",
      "execution_count": null,
      "metadata": {
        "collapsed": false
      },
      "outputs": [],
      "source": [
        "K = relaxT2.kernel(supersampling=1)\nprint(K.shape)"
      ]
    },
    {
      "cell_type": "markdown",
      "metadata": {},
      "source": [
        "### Data Compression\n\nData compression is optional but recommended. It may reduce the size of the\ninverse problem and, thus, further computation time.\n\n"
      ]
    },
    {
      "cell_type": "code",
      "execution_count": null,
      "metadata": {
        "collapsed": false
      },
      "outputs": [],
      "source": [
        "new_system = TSVDCompression(K, data_object_truncated)\ncompressed_K = new_system.compressed_K\ncompressed_s = new_system.compressed_s\n\nprint(f\"truncation_index = {new_system.truncation_index}\")"
      ]
    },
    {
      "cell_type": "markdown",
      "metadata": {},
      "source": [
        "## Solving the inverse problem\n\n### FISTA LASSO cross-validation\n\nSolve the FISTA-lasso problem using the statistical learning ``FISTALassoCV`` method\nover a range of \u03bb values and determine the best T2 parameter distribution for the\ngiven 2D T2-MAS dataset.\n\n"
      ]
    },
    {
      "cell_type": "code",
      "execution_count": null,
      "metadata": {
        "collapsed": false
      },
      "outputs": [],
      "source": [
        "# setup the pre-defined range of alpha and lambda values\nlambdas = 10 ** (-5 + 6 * (np.arange(32) / 31))\n\n# setup the smooth lasso cross-validation class\ns_lasso = LassoFistaCV(\n    lambdas=lambdas,  # A numpy array of lambda values.\n    folds=5,  # The number of folds in n-folds cross-validation.\n    inverse_dimension=inverse_dimension,  # previously defined inverse dimensions.\n)\n\n# run the fit method on the compressed kernel and compressed data.\ns_lasso.fit(K=compressed_K, s=compressed_s)"
      ]
    },
    {
      "cell_type": "markdown",
      "metadata": {},
      "source": [
        "### The optimum hyper-parameters\n\nUse the :attr:`~mrinversion.linear_model.LassoFistaCV.hyperparameters` attribute of\nthe instance for the optimum hyper-parameters, $\\lambda$, determined from the\ncross-validation.\n\n"
      ]
    },
    {
      "cell_type": "code",
      "execution_count": null,
      "metadata": {
        "collapsed": false
      },
      "outputs": [],
      "source": [
        "print(s_lasso.hyperparameters)"
      ]
    },
    {
      "cell_type": "markdown",
      "metadata": {},
      "source": [
        "### The cross-validation curve\n\nOptionally, you may want to visualize the cross-validation error curve/surface.\nUse the :attr:`~mrinversion.linear_model.LassoFistaCV.cross_validation_curve`\nattribute of the instance, as follows\n\n"
      ]
    },
    {
      "cell_type": "code",
      "execution_count": null,
      "metadata": {
        "collapsed": false
      },
      "outputs": [],
      "source": [
        "plt.figure(figsize=(4.5, 3.5))\ns_lasso.cross_validation_curve.plot()\nplt.show()"
      ]
    },
    {
      "cell_type": "markdown",
      "metadata": {},
      "source": [
        "### The optimum solution\n\n"
      ]
    },
    {
      "cell_type": "code",
      "execution_count": null,
      "metadata": {
        "collapsed": false
      },
      "outputs": [],
      "source": [
        "plt.figure(figsize=(4.5, 3.5))\ns_lasso.f.plot()\nplt.show()"
      ]
    },
    {
      "cell_type": "markdown",
      "metadata": {},
      "source": [
        "### The fit residuals\n\nTo calculate the residuals between the data and predicted data(fit), use the\n:meth:`~mrinversion.linear_model.LassoFistaCV.residuals` method, as follows,\n\n"
      ]
    },
    {
      "cell_type": "code",
      "execution_count": null,
      "metadata": {
        "collapsed": false
      },
      "outputs": [],
      "source": [
        "residuals = s_lasso.residuals(K=K, s=data_object_truncated)\n\nplt.figure(figsize=(4.5, 3.5))\nresiduals.plot()\nplt.show()"
      ]
    },
    {
      "cell_type": "markdown",
      "metadata": {},
      "source": [
        "### Saving the solution\n\nTo serialize the solution (nuclear shielding tensor parameter distribution) to a\nfile, use the `save()` method of the CSDM object, for example,\n\n"
      ]
    },
    {
      "cell_type": "code",
      "execution_count": null,
      "metadata": {
        "collapsed": false
      },
      "outputs": [],
      "source": [
        "# f_sol.save(\"Rb2O.2.25SiO2_inverse.csdf\")  # save the solution\n# residuals.save(\"Rb2O.2.25SiO2_residue.csdf\")  # save the residuals"
      ]
    }
  ],
  "metadata": {
    "kernelspec": {
      "display_name": "Python 3",
      "language": "python",
      "name": "python3"
    },
    "language_info": {
      "codemirror_mode": {
        "name": "ipython",
        "version": 3
      },
      "file_extension": ".py",
      "mimetype": "text/x-python",
      "name": "python",
      "nbconvert_exporter": "python",
      "pygments_lexer": "ipython3",
      "version": "3.8.11"
    }
  },
  "nbformat": 4,
  "nbformat_minor": 0
}