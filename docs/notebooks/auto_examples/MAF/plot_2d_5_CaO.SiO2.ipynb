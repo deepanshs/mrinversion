{
  "cells": [
    {
      "cell_type": "code",
      "execution_count": null,
      "metadata": {
        "collapsed": false
      },
      "outputs": [],
      "source": [
        "# This cell is added by sphinx-gallery\n\n%matplotlib inline\n\nimport mrinversion\nprint(f'You are using mrinversion v{mrinversion.__version__}')"
      ]
    },
    {
      "cell_type": "markdown",
      "metadata": {},
      "source": [
        "\n# 2D MAF data of CaO.SiO2 glass\n"
      ]
    },
    {
      "cell_type": "markdown",
      "metadata": {},
      "source": [
        "The following example illustrates an application of the statistical learning method\napplied in determining the distribution of the nuclear shielding tensor parameters\nfrom a 2D magic-angle flipping (MAF) spectrum. In this example, we use the 2D MAF\nspectrum [#f1]_ of $\\text{CaO}\\cdot\\text{SiO}_2$ glass.\n\n## Before getting started\n\nImport all relevant packages.\n\n"
      ]
    },
    {
      "cell_type": "code",
      "execution_count": null,
      "metadata": {
        "collapsed": false
      },
      "outputs": [],
      "source": [
        "import csdmpy as cp\nimport matplotlib.pyplot as plt\nimport numpy as np\nfrom pylab import rcParams\n\nfrom mrinversion.kernel.nmr import ShieldingPALineshape\nfrom mrinversion.linear_model import SmoothLasso, TSVDCompression\nfrom mrinversion.utils import plot_3d, to_Haeberlen_grid"
      ]
    },
    {
      "cell_type": "markdown",
      "metadata": {},
      "source": [
        "Setup for the matplotlib figures.\n\n"
      ]
    },
    {
      "cell_type": "code",
      "execution_count": null,
      "metadata": {
        "collapsed": false
      },
      "outputs": [],
      "source": [
        "rcParams[\"figure.figsize\"] = 4.5, 3.5\nrcParams[\"font.size\"] = 9\n\n\n# function for plotting 2D dataset\ndef plot2D(csdm_object, **kwargs):\n    ax = plt.gca(projection=\"csdm\")\n    ax.imshow(csdm_object, cmap=\"gist_ncar_r\", aspect=\"auto\", **kwargs)\n    ax.invert_xaxis()\n    ax.invert_yaxis()\n    plt.tight_layout()\n    plt.show()"
      ]
    },
    {
      "cell_type": "markdown",
      "metadata": {},
      "source": [
        "## Dataset setup\n\n### Import the dataset\n\nLoad the dataset. Here, we import the dataset as the CSDM data-object.\n\n"
      ]
    },
    {
      "cell_type": "code",
      "execution_count": null,
      "metadata": {
        "collapsed": false
      },
      "outputs": [],
      "source": [
        "# The 2D MAF dataset in csdm format\nfilename = \"https://zenodo.org/record/3964531/files/CaO-SiO2-MAF.csdf\"\ndata_object = cp.load(filename)\n\n# For inversion, we only interest ourselves with the real part of the complex dataset.\ndata_object = data_object.real\n\n# We will also convert the coordinates of both dimensions from Hz to ppm.\n_ = [item.to(\"ppm\", \"nmr_frequency_ratio\") for item in data_object.dimensions]"
      ]
    },
    {
      "cell_type": "markdown",
      "metadata": {},
      "source": [
        "Here, the variable ``data_object`` is a\n`CSDM <https://csdmpy.readthedocs.io/en/latest/api/CSDM.html>`_\nobject that holds the real part of the 2D MAF dataset. The plot of the 2D MAF dataset\nis\n\n"
      ]
    },
    {
      "cell_type": "code",
      "execution_count": null,
      "metadata": {
        "collapsed": false
      },
      "outputs": [],
      "source": [
        "plot2D(data_object)"
      ]
    },
    {
      "cell_type": "markdown",
      "metadata": {},
      "source": [
        "There are two dimensions in this dataset. The dimension at index 0 is the isotropic\nchemical shift dimension, whereas the dimension at index 1 is the pure\nanisotropic dimension.\n\n### Prepping the data for inversion\n**Step-1: Data Alignment**\n\nWhen using the csdm objects with the ``mrinversion`` package, the dimension at index\n0 must be the dimension undergoing the linear inversion. In this example, we plan to\ninvert the pure anisotropic shielding line-shape. In the ``data_object``, the\nanisotropic dimension is at index 1. Transpose the dataset before proceeding.\n\n"
      ]
    },
    {
      "cell_type": "code",
      "execution_count": null,
      "metadata": {
        "collapsed": false
      },
      "outputs": [],
      "source": [
        "data_object = data_object.T"
      ]
    },
    {
      "cell_type": "markdown",
      "metadata": {},
      "source": [
        "**Step-2: Optimization**\n\nAlso notice, the signal from the 2D MAF dataset occupies a small fraction of the\ntwo-dimensional frequency grid. For optimum performance, truncate the dataset to the\nrelevant region before proceeding. Use the appropriate array indexing/slicing to\nselect the signal region.\n\n"
      ]
    },
    {
      "cell_type": "code",
      "execution_count": null,
      "metadata": {
        "collapsed": false
      },
      "outputs": [],
      "source": [
        "data_object_truncated = data_object[30:-30, 110:145]\nplot2D(data_object_truncated)"
      ]
    },
    {
      "cell_type": "markdown",
      "metadata": {},
      "source": [
        "## Linear Inversion setup\n\n### Dimension setup\n\n**Anisotropic-dimension:**\nThe dimension of the dataset that holds the pure anisotropic frequency\ncontributions. In ``mrinversion``, this must always be the dimension at index 0 of\nthe data object.\n\n"
      ]
    },
    {
      "cell_type": "code",
      "execution_count": null,
      "metadata": {
        "collapsed": false
      },
      "outputs": [],
      "source": [
        "anisotropic_dimension = data_object_truncated.dimensions[0]"
      ]
    },
    {
      "cell_type": "markdown",
      "metadata": {},
      "source": [
        "**x-y dimensions:**\nThe two inverse dimensions corresponding to the `x` and `y`-axis of the `x`-`y` grid.\n\n"
      ]
    },
    {
      "cell_type": "code",
      "execution_count": null,
      "metadata": {
        "collapsed": false
      },
      "outputs": [],
      "source": [
        "inverse_dimensions = [\n    cp.LinearDimension(count=25, increment=\"400 Hz\", label=\"x\"),  # the `x`-dimension.\n    cp.LinearDimension(count=25, increment=\"400 Hz\", label=\"y\"),  # the `y`-dimension.\n]"
      ]
    },
    {
      "cell_type": "markdown",
      "metadata": {},
      "source": [
        "### Generating the kernel\n\nFor MAF datasets, the line-shape kernel corresponds to the pure nuclear shielding\nanisotropy line-shapes. Use the\n:class:`~mrinversion.kernel.nmr.ShieldingPALineshape` class to generate\na shielding line-shape kernel.\n\n"
      ]
    },
    {
      "cell_type": "code",
      "execution_count": null,
      "metadata": {
        "collapsed": false
      },
      "outputs": [],
      "source": [
        "lineshape = ShieldingPALineshape(\n    anisotropic_dimension=anisotropic_dimension,\n    inverse_dimension=inverse_dimensions,\n    channel=\"29Si\",\n    magnetic_flux_density=\"9.4 T\",\n    rotor_angle=\"90\u00b0\",\n    rotor_frequency=\"10.4 kHz\",\n    number_of_sidebands=4,\n)"
      ]
    },
    {
      "cell_type": "markdown",
      "metadata": {},
      "source": [
        "Here, ``lineshape`` is an instance of the\n:class:`~mrinversion.kernel.nmr.ShieldingPALineshape` class. The required\narguments of this class are the `anisotropic_dimension`, `inverse_dimension`, and\n`channel`. We have already defined the first two arguments in the previous\nsub-section. The value of the `channel` argument is the nucleus observed in the MAF\nexperiment. In this example, this value is '29Si'.\nThe remaining arguments, such as the `magnetic_flux_density`, `rotor_angle`,\nand `rotor_frequency`, are set to match the conditions under which the 2D MAF\nspectrum was acquired. The value of the\n`number_of_sidebands` argument is the number of sidebands calculated for each\nline-shape within the kernel. Unless, you have a lot of spinning sidebands in your\nMAF dataset, four sidebands should be enough.\n\nOnce the ShieldingPALineshape instance is created, use the\n:meth:`~mrinversion.kernel.nmr.ShieldingPALineshape.kernel` method of\nthe instance to generate the MAF line-shape kernel.\n\n"
      ]
    },
    {
      "cell_type": "code",
      "execution_count": null,
      "metadata": {
        "collapsed": false
      },
      "outputs": [],
      "source": [
        "K = lineshape.kernel(supersampling=1)\nprint(K.shape)"
      ]
    },
    {
      "cell_type": "markdown",
      "metadata": {},
      "source": [
        "The kernel ``K`` is a NumPy array of shape (32, 784), where the axes with 32 and\n784 points are the anisotropic dimension and the features (x-y coordinates)\ncorresponding to the $28\\times 28$ `x`-`y` grid, respectively.\n\n"
      ]
    },
    {
      "cell_type": "markdown",
      "metadata": {},
      "source": [
        "### Data Compression\n\nData compression is optional but recommended. It may reduce the size of the\ninverse problem and, thus, further computation time.\n\n"
      ]
    },
    {
      "cell_type": "code",
      "execution_count": null,
      "metadata": {
        "collapsed": false
      },
      "outputs": [],
      "source": [
        "new_system = TSVDCompression(K=K, s=data_object_truncated)\ncompressed_K = new_system.compressed_K\ncompressed_s = new_system.compressed_s\n\nprint(f\"truncation_index = {new_system.truncation_index}\")"
      ]
    },
    {
      "cell_type": "markdown",
      "metadata": {},
      "source": [
        "## Solving the inverse problem\n\n### Smooth LASSO cross-validation\n\nSolve the smooth-lasso problem. Ordinarily, one should use the statistical learning\nmethod to solve the inverse problem over a range of \u03b1 and \u03bb values and then determine\nthe best nuclear shielding tensor parameter distribution for the given 2D MAF\ndataset. Considering the limited build time for the documentation, we skip this step\nand evaluate the distribution at pre-optimized \u03b1 and \u03bb values. The optimum values are\n$\\alpha = 2.8\\times 10^{-5}$ and $\\lambda = 8.85\\times 10^{-6}$.\nThe following commented code was used in determining the optimum \u03b1 and \u03bb values.\n\n"
      ]
    },
    {
      "cell_type": "code",
      "execution_count": null,
      "metadata": {
        "collapsed": false
      },
      "outputs": [],
      "source": [
        "# from mrinversion.linear_model import SmoothLassoCV\n# import numpy as np\n\n# # setup the pre-defined range of alpha and lambda values\n# lambdas = 10 ** (-4 - 2 * (np.arange(20) / 19))\n# alphas = 10 ** (-3.5 - 2 * (np.arange(20) / 19))\n\n# # setup the smooth lasso cross-validation class\n# s_lasso = SmoothLassoCV(\n#     alphas=alphas,  # A numpy array of alpha values.\n#     lambdas=lambdas,  # A numpy array of lambda values.\n#     sigma=0.0012,  # The standard deviation of noise from the MAF data.\n#     folds=10,  # The number of folds in n-folds cross-validation.\n#     inverse_dimension=inverse_dimensions,  # previously defined inverse dimensions.\n#     verbose=1,  # If non-zero, prints the progress as the computation proceeds.\n#     max_iterations=20000,  # maximum number of allowed iterations.\n# )\n\n# # run fit using the compressed kernel and compressed data.\n# s_lasso.fit(compressed_K, compressed_s)\n\n# # the optimum hyper-parameters, alpha and lambda, from the cross-validation.\n# print(s_lasso.hyperparameters)\n# # {'alpha': 3.359818286283781e-05, 'lambda': 5.324953129837531e-06}\n\n# # the solution\n# f_sol = s_lasso.f\n\n# # the cross-validation error curve\n# CV_metric = s_lasso.cross_validation_curve"
      ]
    },
    {
      "cell_type": "markdown",
      "metadata": {},
      "source": [
        "If you use the above ``SmoothLassoCV`` method, skip the following code-block.\n\n"
      ]
    },
    {
      "cell_type": "code",
      "execution_count": null,
      "metadata": {
        "collapsed": false
      },
      "outputs": [],
      "source": [
        "s_lasso = SmoothLasso(\n    alpha=2.8e-5, lambda1=8.85e-6, inverse_dimension=inverse_dimensions\n)\n# run the fit method on the compressed kernel and compressed data.\ns_lasso.fit(K=compressed_K, s=compressed_s)"
      ]
    },
    {
      "cell_type": "markdown",
      "metadata": {},
      "source": [
        "### The optimum solution\n\nThe :attr:`~mrinversion.linear_model.SmoothLasso.f` attribute of the instance holds\nthe solution,\n\n"
      ]
    },
    {
      "cell_type": "code",
      "execution_count": null,
      "metadata": {
        "collapsed": false
      },
      "outputs": [],
      "source": [
        "f_sol = s_lasso.f  # f_sol is a CSDM object."
      ]
    },
    {
      "cell_type": "markdown",
      "metadata": {},
      "source": [
        "where ``f_sol`` is the optimum solution.\n\n### The fit residuals\n\nTo calculate the residuals between the data and predicted data(fit), use the\n:meth:`~mrinversion.linear_model.SmoothLasso.residuals` method, as follows,\n\n"
      ]
    },
    {
      "cell_type": "code",
      "execution_count": null,
      "metadata": {
        "collapsed": false
      },
      "outputs": [],
      "source": [
        "residuals = s_lasso.residuals(K, data_object_truncated)\n# residuals is a CSDM object.\n\n# The plot of the residuals.\nplot2D(residuals, vmax=data_object_truncated.max(), vmin=data_object_truncated.min())"
      ]
    },
    {
      "cell_type": "markdown",
      "metadata": {},
      "source": [
        "The standard deviation of the residuals is\n\n"
      ]
    },
    {
      "cell_type": "code",
      "execution_count": null,
      "metadata": {
        "collapsed": false
      },
      "outputs": [],
      "source": [
        "residuals.std()"
      ]
    },
    {
      "cell_type": "markdown",
      "metadata": {},
      "source": [
        "### Saving the solution\n\nTo serialize the solution to a file, use the `save()` method of the CSDM object,\nfor example,\n\n"
      ]
    },
    {
      "cell_type": "code",
      "execution_count": null,
      "metadata": {
        "collapsed": false
      },
      "outputs": [],
      "source": [
        "f_sol.save(\"CaO.SiO2_inverse.csdf\")  # save the solution\nresiduals.save(\"CaO.SiO2_residue.csdf\")  # save the residuals"
      ]
    },
    {
      "cell_type": "markdown",
      "metadata": {},
      "source": [
        "## Data Visualization\n\nAt this point, we have solved the inverse problem and obtained an optimum\ndistribution of the nuclear shielding tensor parameters from the 2D MAF dataset. You\nmay use any data visualization and interpretation tool of choice for further\nanalysis. In the following sections, we provide minimal visualization to complete the\ncase study.\n\n### Visualizing the 3D solution\n\n"
      ]
    },
    {
      "cell_type": "code",
      "execution_count": null,
      "metadata": {
        "collapsed": false
      },
      "outputs": [],
      "source": [
        "# Normalize the solution\nf_sol /= f_sol.max()\n\n# Convert the coordinates of the solution, `f_sol`, from Hz to ppm.\n[item.to(\"ppm\", \"nmr_frequency_ratio\") for item in f_sol.dimensions]\n\n# The 3D plot of the solution\nplt.figure(figsize=(5, 4.4))\nax = plt.gca(projection=\"3d\")\nplot_3d(ax, f_sol, x_lim=[0, 140], y_lim=[0, 140], z_lim=[-50, -120])\nplt.tight_layout()\nplt.show()"
      ]
    },
    {
      "cell_type": "markdown",
      "metadata": {},
      "source": [
        "## Convert the 3D tensor distribution in Haeberlen parameters\nYou may re-bin the 3D tensor parameter distribution from a\n$\\rho(\\delta_\\text{iso}, x, y)$ distribution to\n$\\rho(\\delta_\\text{iso}, \\zeta_\\sigma, \\eta_\\sigma)$ distribution as follows.\n\n"
      ]
    },
    {
      "cell_type": "code",
      "execution_count": null,
      "metadata": {
        "collapsed": false
      },
      "outputs": [],
      "source": [
        "# Create the zeta and eta dimensions,, as shown below.\nzeta = cp.as_dimension(np.arange(40) * 8 - 150, unit=\"ppm\", label=\"zeta\")\neta = cp.as_dimension(np.arange(16) / 15, label=\"eta\")\n\n# Use the `to_Haeberlen_grid` function to convert the tensor parameter distribution.\nfsol_Hae = to_Haeberlen_grid(f_sol, zeta, eta)"
      ]
    },
    {
      "cell_type": "markdown",
      "metadata": {},
      "source": [
        "### The 3D plot\n\n"
      ]
    },
    {
      "cell_type": "code",
      "execution_count": null,
      "metadata": {
        "collapsed": false
      },
      "outputs": [],
      "source": [
        "plt.figure(figsize=(5, 4.4))\nax = plt.gca(projection=\"3d\")\nplot_3d(ax, fsol_Hae, x_lim=[0, 1], y_lim=[-150, 150], z_lim=[-50, -120], alpha=0.05)\nplt.tight_layout()\nplt.show()"
      ]
    },
    {
      "cell_type": "markdown",
      "metadata": {},
      "source": [
        "## References\n\n.. [#f1] Zhang, P., Grandinetti, P. J., Stebbins, J. F., Anionic Species\n      Determination in CaSiO3 Glass Using Two-Dimensional 29Si NMR,\n      J. Phys. Chem. B, **101**, 4004-4008 (1997).\n      `doi:10.1021/jp9700342. <https://doi.org/10.1021/jp9700342>`_\n\n"
      ]
    }
  ],
  "metadata": {
    "kernelspec": {
      "display_name": "Python 3",
      "language": "python",
      "name": "python3"
    },
    "language_info": {
      "codemirror_mode": {
        "name": "ipython",
        "version": 3
      },
      "file_extension": ".py",
      "mimetype": "text/x-python",
      "name": "python",
      "nbconvert_exporter": "python",
      "pygments_lexer": "ipython3",
      "version": "3.8.5"
    }
  },
  "nbformat": 4,
  "nbformat_minor": 0
}