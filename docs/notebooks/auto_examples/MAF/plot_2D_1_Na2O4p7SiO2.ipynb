{
  "cells": [
    {
      "cell_type": "code",
      "execution_count": null,
      "metadata": {
        "collapsed": false
      },
      "outputs": [],
      "source": [
        "# This cell is added by sphinx-gallery\n\n%matplotlib inline\n\nimport mrinversion\nprint(f'You are using mrinversion v{mrinversion.__version__}')"
      ]
    },
    {
      "cell_type": "markdown",
      "metadata": {},
      "source": [
        "\n# 2D MAF data of Na2O.4.7SiO2 glass\n"
      ]
    },
    {
      "cell_type": "markdown",
      "metadata": {},
      "source": [
        "The following example illustrates an application of the statistical learning method\napplied in determining the distribution of the nuclear shielding tensor parameters\nfrom a 2D magic-angle flipping (MAF) spectrum. In this example, we use the 2D MAF\nspectrum [#f1]_ of $\\text{Na}_2\\text{O}\\cdot4.7\\text{SiO}_2$ glass.\n\n## Before getting started\n\nImport all relevant packages.\n\n"
      ]
    },
    {
      "cell_type": "code",
      "execution_count": null,
      "metadata": {
        "collapsed": false
      },
      "outputs": [],
      "source": [
        "import csdmpy as cp\nimport matplotlib.pyplot as plt\nimport numpy as np\nfrom matplotlib import cm\nfrom csdmpy import statistics as stats\n\nfrom mrinversion.kernel.nmr import ShieldingPALineshape\nfrom mrinversion.kernel.utils import x_y_to_zeta_eta\nfrom mrinversion.linear_model import SmoothLasso, TSVDCompression\nfrom mrinversion.utils import plot_3d, to_Haeberlen_grid"
      ]
    },
    {
      "cell_type": "markdown",
      "metadata": {},
      "source": [
        "Setup for the matplotlib figures.\n\n"
      ]
    },
    {
      "cell_type": "code",
      "execution_count": null,
      "metadata": {
        "collapsed": false
      },
      "outputs": [],
      "source": [
        "# function for plotting 2D dataset\ndef plot2D(csdm_object, **kwargs):\n    plt.figure(figsize=(4.5, 3.5))\n    ax = plt.subplot(projection=\"csdm\")\n    ax.imshow(csdm_object, cmap=\"gist_ncar_r\", aspect=\"auto\", **kwargs)\n    ax.invert_xaxis()\n    ax.invert_yaxis()\n    plt.tight_layout()\n    plt.show()"
      ]
    },
    {
      "cell_type": "markdown",
      "metadata": {},
      "source": [
        "## Dataset setup\n\n### Import the dataset\n\nLoad the dataset. Here, we import the dataset as the CSDM data-object.\n\n"
      ]
    },
    {
      "cell_type": "code",
      "execution_count": null,
      "metadata": {
        "collapsed": false
      },
      "outputs": [],
      "source": [
        "# The 2D MAF dataset in csdm format\nfilename = \"https://zenodo.org/record/3964531/files/Na2O-4_74SiO2-MAF.csdf\"\ndata_object = cp.load(filename)\n\n# For inversion, we only interest ourselves with the real part of the complex dataset.\ndata_object = data_object.real\n\n# We will also convert the coordinates of both dimensions from Hz to ppm.\n_ = [item.to(\"ppm\", \"nmr_frequency_ratio\") for item in data_object.dimensions]"
      ]
    },
    {
      "cell_type": "markdown",
      "metadata": {},
      "source": [
        "Here, the variable ``data_object`` is a\n`CSDM <https://csdmpy.readthedocs.io/en/latest/api/CSDM.html>`_\nobject that holds the real part of the 2D MAF dataset. The plot of the 2D MAF dataset\nis\n\n"
      ]
    },
    {
      "cell_type": "code",
      "execution_count": null,
      "metadata": {
        "collapsed": false
      },
      "outputs": [],
      "source": [
        "plot2D(data_object)"
      ]
    },
    {
      "cell_type": "markdown",
      "metadata": {},
      "source": [
        "There are two dimensions in this dataset. The dimension at index 0, the horizontal\ndimension in the figure, is the isotropic chemical shift dimension, while the\ndimension at index 1 is the pure anisotropic dimension. The number of coordinates\nalong the respective dimensions is\n\n"
      ]
    },
    {
      "cell_type": "code",
      "execution_count": null,
      "metadata": {
        "collapsed": false
      },
      "outputs": [],
      "source": [
        "print(data_object.shape)"
      ]
    },
    {
      "cell_type": "markdown",
      "metadata": {},
      "source": [
        "with 320 points along the isotropic chemical shift dimension (index 0) and 128 points\nalong the anisotropic dimension (index 1).\n\n"
      ]
    },
    {
      "cell_type": "markdown",
      "metadata": {},
      "source": [
        "### Prepping the data for inversion\n**Step-1: Data Alignment**\n\nWhen using the csdm objects with the ``mrinversion`` package, the dimension at index\n0 must be the dimension undergoing the linear inversion. In this example, we plan to\ninvert the pure anisotropic shielding line-shape. In the ``data_object``, however,\nthe anisotropic dimension is at index 1. Transpose the dimensions as follows,\n\n"
      ]
    },
    {
      "cell_type": "code",
      "execution_count": null,
      "metadata": {
        "collapsed": false
      },
      "outputs": [],
      "source": [
        "data_object = data_object.T"
      ]
    },
    {
      "cell_type": "markdown",
      "metadata": {},
      "source": [
        "**Step-2: Optimization**\n\nAlso notice, the signal from the 2D MAF dataset occupies a small fraction of the\ntwo-dimensional frequency grid. For optimum performance, truncate the dataset to the\nrelevant region before proceeding. Use the appropriate array indexing/slicing to\nselect the signal region.\n\n"
      ]
    },
    {
      "cell_type": "code",
      "execution_count": null,
      "metadata": {
        "collapsed": false
      },
      "outputs": [],
      "source": [
        "data_object_truncated = data_object[:, 155:180]\nplot2D(data_object_truncated)"
      ]
    },
    {
      "cell_type": "markdown",
      "metadata": {},
      "source": [
        "## Linear Inversion setup\n\n### Dimension setup\n\n**Anisotropic-dimension:**\nThe dimension of the dataset that holds the pure anisotropic frequency\ncontributions. In ``mrinversion``, this must always be the dimension at index 0 of\nthe data object.\n\n"
      ]
    },
    {
      "cell_type": "code",
      "execution_count": null,
      "metadata": {
        "collapsed": false
      },
      "outputs": [],
      "source": [
        "anisotropic_dimension = data_object_truncated.dimensions[0]"
      ]
    },
    {
      "cell_type": "markdown",
      "metadata": {},
      "source": [
        "**x-y dimensions:**\nThe two inverse dimensions corresponding to the `x` and `y`-axis of the `x`-`y` grid.\n\n"
      ]
    },
    {
      "cell_type": "code",
      "execution_count": null,
      "metadata": {
        "collapsed": false
      },
      "outputs": [],
      "source": [
        "inverse_dimensions = [\n    cp.LinearDimension(count=25, increment=\"400 Hz\", label=\"x\"),  # the `x`-dimension.\n    cp.LinearDimension(count=25, increment=\"400 Hz\", label=\"y\"),  # the `y`-dimension.\n]"
      ]
    },
    {
      "cell_type": "markdown",
      "metadata": {},
      "source": [
        "### Generating the kernel\n\nFor MAF datasets, the line-shape kernel corresponds to the pure nuclear shielding\nanisotropy line-shapes. Use the\n:class:`~mrinversion.kernel.nmr.ShieldingPALineshape` class to generate\na shielding line-shape kernel.\n\n"
      ]
    },
    {
      "cell_type": "code",
      "execution_count": null,
      "metadata": {
        "collapsed": false
      },
      "outputs": [],
      "source": [
        "lineshape = ShieldingPALineshape(\n    anisotropic_dimension=anisotropic_dimension,\n    inverse_dimension=inverse_dimensions,\n    channel=\"29Si\",\n    magnetic_flux_density=\"9.4 T\",\n    rotor_angle=\"87.14\u00b0\",\n    rotor_frequency=\"14 kHz\",\n    number_of_sidebands=4,\n)"
      ]
    },
    {
      "cell_type": "markdown",
      "metadata": {},
      "source": [
        "Here, ``lineshape`` is an instance of the\n:class:`~mrinversion.kernel.nmr.ShieldingPALineshape` class. The required\narguments of this class are the `anisotropic_dimension`, `inverse_dimension`, and\n`channel`. We have already defined the first two arguments in the previous\nsub-section. The value of the `channel` argument is the nucleus observed in the MAF\nexperiment. In this example, this value is '29Si'.\nThe remaining arguments, such as the `magnetic_flux_density`, `rotor_angle`,\nand `rotor_frequency`, are set to match the conditions under which the 2D MAF\nspectrum was acquired. Note for this particular MAF measurement, the rotor angle was\nset to $87.14^\\circ$ for the anisotropic dimension, not the usual\n$90^\\circ$. The value of the\n`number_of_sidebands` argument is the number of sidebands calculated for each\nline-shape within the kernel. Unless, you have a lot of spinning sidebands in your\nMAF dataset, four sidebands should be enough.\n\nOnce the ShieldingPALineshape instance is created, use the\n:meth:`~mrinversion.kernel.nmr.ShieldingPALineshape.kernel` method of the\ninstance to generate the MAF line-shape kernel.\n\n"
      ]
    },
    {
      "cell_type": "code",
      "execution_count": null,
      "metadata": {
        "collapsed": false
      },
      "outputs": [],
      "source": [
        "K = lineshape.kernel(supersampling=1)\nprint(K.shape)"
      ]
    },
    {
      "cell_type": "markdown",
      "metadata": {},
      "source": [
        "The kernel ``K`` is a NumPy array of shape (128, 625), where the axes with 128 and\n625 points are the anisotropic dimension and the features (x-y coordinates)\ncorresponding to the $25\\times 25$ `x`-`y` grid, respectively.\n\n"
      ]
    },
    {
      "cell_type": "markdown",
      "metadata": {},
      "source": [
        "### Data Compression\n\nData compression is optional but recommended. It may reduce the size of the\ninverse problem and, thus, further computation time.\n\n"
      ]
    },
    {
      "cell_type": "code",
      "execution_count": null,
      "metadata": {
        "collapsed": false
      },
      "outputs": [],
      "source": [
        "new_system = TSVDCompression(K, data_object_truncated)\ncompressed_K = new_system.compressed_K\ncompressed_s = new_system.compressed_s\n\nprint(f\"truncation_index = {new_system.truncation_index}\")"
      ]
    },
    {
      "cell_type": "markdown",
      "metadata": {},
      "source": [
        "## Solving the inverse problem\n\n### Smooth LASSO cross-validation\n\nSolve the smooth-lasso problem. Ordinarily, one should use the statistical learning\nmethod to solve the inverse problem over a range of \u03b1 and \u03bb values and then determine\nthe best nuclear shielding tensor parameter distribution for the given 2D MAF\ndataset. Considering the limited build time for the documentation, we skip this step\nand evaluate the distribution at pre-optimized \u03b1 and \u03bb values. The optimum values are\n$\\alpha = 2.07\\times 10^{-7}$ and $\\lambda = 7.85\\times 10^{-6}$.\nThe following commented code was used in determining the optimum \u03b1 and \u03bb values.\n\n"
      ]
    },
    {
      "cell_type": "code",
      "execution_count": null,
      "metadata": {
        "collapsed": false
      },
      "outputs": [],
      "source": [
        "# from mrinversion.linear_model import SmoothLassoCV\n\n# # setup the pre-defined range of alpha and lambda values\n# lambdas = 10 ** (-4 - 3 * (np.arange(20) / 19))\n# alphas = 10 ** (-4 - 3 * (np.arange(20) / 19))\n\n# # setup the smooth lasso cross-validation class\n# s_lasso = SmoothLassoCV(\n#     alphas=alphas,  # A numpy array of alpha values.\n#     lambdas=lambdas,  # A numpy array of lambda values.\n#     sigma=0.003,  # The standard deviation of noise from the MAF data.\n#     folds=10,  # The number of folds in n-folds cross-validation.\n#     inverse_dimension=inverse_dimensions,  # previously defined inverse dimensions.\n#     verbose=1,  # If non-zero, prints the progress as the computation proceeds.\n#     max_iterations=20000,  # maximum number of allowed iterations.\n# )\n\n# # run fit using the compressed kernel and compressed data.\n# s_lasso.fit(compressed_K, compressed_s)\n\n# # the optimum hyper-parameters, alpha and lambda, from the cross-validation.\n# print(s_lasso.hyperparameters)\n# # {'alpha': 2.06913808111479e-07, 'lambda': 7.847599703514622e-06}\n\n# # the solution\n# f_sol = s_lasso.f\n\n# # the cross-validation error curve\n# CV_metric = s_lasso.cross_validation_curve"
      ]
    },
    {
      "cell_type": "markdown",
      "metadata": {},
      "source": [
        "If you use the above ``SmoothLassoCV`` method, skip the following code-block. The\nfollowing code-block evaluates the smooth-lasso solution at the pre-optimized\nhyperparameters.\n\n"
      ]
    },
    {
      "cell_type": "code",
      "execution_count": null,
      "metadata": {
        "collapsed": false
      },
      "outputs": [],
      "source": [
        "# Setup the smooth lasso class\ns_lasso = SmoothLasso(\n    alpha=2.07e-7, lambda1=7.85e-6, inverse_dimension=inverse_dimensions\n)\n# run the fit method on the compressed kernel and compressed data.\ns_lasso.fit(K=compressed_K, s=compressed_s)"
      ]
    },
    {
      "cell_type": "markdown",
      "metadata": {},
      "source": [
        "### The optimum solution\n\nThe :attr:`~mrinversion.linear_model.SmoothLasso.f` attribute of the instance holds\nthe solution,\n\n"
      ]
    },
    {
      "cell_type": "code",
      "execution_count": null,
      "metadata": {
        "collapsed": false
      },
      "outputs": [],
      "source": [
        "f_sol = s_lasso.f  # f_sol is a CSDM object."
      ]
    },
    {
      "cell_type": "markdown",
      "metadata": {},
      "source": [
        "where ``f_sol`` is the optimum solution.\n\n### The fit residuals\n\nTo calculate the residuals between the data and predicted data(fit), use the\n:meth:`~mrinversion.linear_model.SmoothLasso.residuals` method, as follows,\n\n"
      ]
    },
    {
      "cell_type": "code",
      "execution_count": null,
      "metadata": {
        "collapsed": false
      },
      "outputs": [],
      "source": [
        "residuals = s_lasso.residuals(K=K, s=data_object_truncated)\n# residuals is a CSDM object.\n\n# The plot of the residuals.\nplot2D(residuals, vmax=data_object_truncated.max(), vmin=data_object_truncated.min())"
      ]
    },
    {
      "cell_type": "markdown",
      "metadata": {},
      "source": [
        "The mean and standard deviation of the residuals are\n\n"
      ]
    },
    {
      "cell_type": "code",
      "execution_count": null,
      "metadata": {
        "collapsed": false
      },
      "outputs": [],
      "source": [
        "residuals.mean(), residuals.std()"
      ]
    },
    {
      "cell_type": "markdown",
      "metadata": {},
      "source": [
        "### Saving the solution\n\nTo serialize the solution to a file, use the `save()` method of the CSDM object,\nfor example,\n\n"
      ]
    },
    {
      "cell_type": "code",
      "execution_count": null,
      "metadata": {
        "collapsed": false
      },
      "outputs": [],
      "source": [
        "f_sol.save(\"Na2O.4.7SiO2_inverse.csdf\")  # save the solution\nresiduals.save(\"Na2O.4.7SiO2_residue.csdf\")  # save the residuals"
      ]
    },
    {
      "cell_type": "markdown",
      "metadata": {},
      "source": [
        "## Data Visualization\n\nAt this point, we have solved the inverse problem and obtained an optimum\ndistribution of the nuclear shielding tensor parameters from the 2D MAF dataset. You\nmay use any data visualization and interpretation tool of choice for further\nanalysis. In the following sections, we provide minimal visualization and analysis\nto complete the case study.\n\n### Visualizing the 3D solution\n\n"
      ]
    },
    {
      "cell_type": "code",
      "execution_count": null,
      "metadata": {
        "collapsed": false
      },
      "outputs": [],
      "source": [
        "# Normalize the solution\nf_sol /= f_sol.max()\n\n# Convert the coordinates of the solution, `f_sol`, from Hz to ppm.\n[item.to(\"ppm\", \"nmr_frequency_ratio\") for item in f_sol.dimensions]\n\n# The 3D plot of the solution\nplt.figure(figsize=(5, 4.4))\nax = plt.subplot(projection=\"3d\")\nplot_3d(ax, f_sol, x_lim=[0, 140], y_lim=[0, 140], z_lim=[-50, -150])\nplt.tight_layout()\nplt.show()"
      ]
    },
    {
      "cell_type": "markdown",
      "metadata": {},
      "source": [
        "From the 3D plot, we observe two distinct regions: one for the $\\text{Q}^4$\nsites and another for the $\\text{Q}^3$ sites.\nSelect the respective regions by using the appropriate array indexing,\n\n"
      ]
    },
    {
      "cell_type": "code",
      "execution_count": null,
      "metadata": {
        "collapsed": false
      },
      "outputs": [],
      "source": [
        "Q4_region = f_sol[0:8, 0:8, 3:18]\nQ4_region.description = \"Q4 region\"\n\nQ3_region = f_sol[0:8, 11:22, 8:20]\nQ3_region.description = \"Q3 region\""
      ]
    },
    {
      "cell_type": "markdown",
      "metadata": {},
      "source": [
        "The plot of the respective regions is shown below.\n\n"
      ]
    },
    {
      "cell_type": "code",
      "execution_count": null,
      "metadata": {
        "collapsed": false
      },
      "outputs": [],
      "source": [
        "# Calculate the normalization factor for the 2D contours and 1D projections from the\n# original solution, `f_sol`. Use this normalization factor to scale the intensities\n# from the sub-regions.\nmax_2d = [\n    f_sol.sum(axis=0).max().value,\n    f_sol.sum(axis=1).max().value,\n    f_sol.sum(axis=2).max().value,\n]\nmax_1d = [\n    f_sol.sum(axis=(1, 2)).max().value,\n    f_sol.sum(axis=(0, 2)).max().value,\n    f_sol.sum(axis=(0, 1)).max().value,\n]\n\nplt.figure(figsize=(5, 4.4))\nax = plt.subplot(projection=\"3d\")\n\n# plot for the Q4 region\nplot_3d(\n    ax,\n    Q4_region,\n    x_lim=[0, 140],  # the x-limit\n    y_lim=[0, 140],  # the y-limit\n    z_lim=[-50, -150],  # the z-limit\n    max_2d=max_2d,  # normalization factors for the 2D contours projections\n    max_1d=max_1d,  # normalization factors for the 1D projections\n    cmap=cm.Reds_r,  # colormap\n    box=True,  # draw a box around the region\n)\n# plot for the Q3 region\nplot_3d(\n    ax,\n    Q3_region,\n    x_lim=[0, 140],  # the x-limit\n    y_lim=[0, 140],  # the y-limit\n    z_lim=[-50, -150],  # the z-limit\n    max_2d=max_2d,  # normalization factors for the 2D contours projections\n    max_1d=max_1d,  # normalization factors for the 1D projections\n    cmap=cm.Blues_r,  # colormap\n    box=True,  # draw a box around the region\n)\nax.legend()\nplt.tight_layout()\nplt.show()"
      ]
    },
    {
      "cell_type": "markdown",
      "metadata": {},
      "source": [
        "### Visualizing the isotropic projections.\n\nBecause the $\\text{Q}^4$ and $\\text{Q}^3$ regions are fully resolved\nafter the inversion, evaluating the contributions from these regions is trivial.\nFor examples, the distribution of the isotropic chemical shifts for these regions are\n\n"
      ]
    },
    {
      "cell_type": "code",
      "execution_count": null,
      "metadata": {
        "collapsed": false
      },
      "outputs": [],
      "source": [
        "# Isotropic chemical shift projection of the 2D MAF dataset.\ndata_iso = data_object_truncated.sum(axis=0)\ndata_iso /= data_iso.max()  # normalize the projection\n\n# Isotropic chemical shift projection of the tensor distribution dataset.\nf_sol_iso = f_sol.sum(axis=(0, 1))\n\n# Isotropic chemical shift projection of the tensor distribution for the Q4 region.\nQ4_region_iso = Q4_region.sum(axis=(0, 1))\n\n# Isotropic chemical shift projection of the tensor distribution for the Q3 region.\nQ3_region_iso = Q3_region.sum(axis=(0, 1))\n\n# Normalize the three projections.\nf_sol_iso_max = f_sol_iso.max()\nf_sol_iso /= f_sol_iso_max\nQ4_region_iso /= f_sol_iso_max\nQ3_region_iso /= f_sol_iso_max\n\n# The plot of the different projections.\nplt.figure(figsize=(5.5, 3.5))\nax = plt.subplot(projection=\"csdm\")\nax.plot(f_sol_iso, \"--k\", label=\"tensor\")\nax.plot(Q4_region_iso, \"r\", label=\"Q4\")\nax.plot(Q3_region_iso, \"b\", label=\"Q3\")\nax.plot(data_iso, \"-k\", label=\"MAF\")\nax.plot(data_iso - f_sol_iso - 0.1, \"gray\", label=\"residuals\")\nax.set_title(\"Isotropic projection\")\nax.invert_xaxis()\nplt.legend()\nplt.tight_layout()\nplt.show()"
      ]
    },
    {
      "cell_type": "markdown",
      "metadata": {},
      "source": [
        "## Analysis\n\nFor the analysis, we use the\n`statistics <https://csdmpy.readthedocs.io/en/latest/api/statistics.html>`_\nmodule of the csdmpy package. Following is the moment analysis of the 3D volumes for\nboth the $\\text{Q}^4$ and $\\text{Q}^3$ regions up to the second moment.\n\n"
      ]
    },
    {
      "cell_type": "code",
      "execution_count": null,
      "metadata": {
        "collapsed": false
      },
      "outputs": [],
      "source": [
        "int_Q4 = stats.integral(Q4_region)  # volume of the Q4 distribution\nmean_Q4 = stats.mean(Q4_region)  # mean of the Q4 distribution\nstd_Q4 = stats.std(Q4_region)  # standard deviation of the Q4 distribution\n\nint_Q3 = stats.integral(Q3_region)  # volume of the Q3 distribution\nmean_Q3 = stats.mean(Q3_region)  # mean of the Q3 distribution\nstd_Q3 = stats.std(Q3_region)  # standard deviation of the Q3 distribution\n\nprint(\"Q4 statistics\")\nprint(f\"\\tpopulation = {100 * int_Q4 / (int_Q4 + int_Q3)}%\")\nprint(\"\\tmean\\n\\t\\tx:\\t{0}\\n\\t\\ty:\\t{1}\\n\\t\\tiso:\\t{2}\".format(*mean_Q4))\nprint(\"\\tstandard deviation\\n\\t\\tx:\\t{0}\\n\\t\\ty:\\t{1}\\n\\t\\tiso:\\t{2}\".format(*std_Q4))\n\nprint(\"Q3 statistics\")\nprint(f\"\\tpopulation = {100 * int_Q3 / (int_Q4 + int_Q3)}%\")\nprint(\"\\tmean\\n\\t\\tx:\\t{0}\\n\\t\\ty:\\t{1}\\n\\t\\tiso:\\t{2}\".format(*mean_Q3))\nprint(\"\\tstandard deviation\\n\\t\\tx:\\t{0}\\n\\t\\ty:\\t{1}\\n\\t\\tiso:\\t{2}\".format(*std_Q3))"
      ]
    },
    {
      "cell_type": "markdown",
      "metadata": {},
      "source": [
        "The statistics shown above are according to the respective dimensions, that is, the\n`x`, `y`, and the isotropic chemical shifts. To convert the `x` and `y` statistics\nto commonly used $\\zeta_\\sigma$ and $\\eta_\\sigma$ statistics, use the\n:func:`~mrinversion.kernel.utils.x_y_to_zeta_eta` function.\n\n"
      ]
    },
    {
      "cell_type": "code",
      "execution_count": null,
      "metadata": {
        "collapsed": false
      },
      "outputs": [],
      "source": [
        "mean_\u03b6\u03b7_Q3 = x_y_to_zeta_eta(*mean_Q3[0:2])\n\n# error propagation for calculating the standard deviation\nstd_\u03b6 = (std_Q3[0] * mean_Q3[0]) ** 2 + (std_Q3[1] * mean_Q3[1]) ** 2\nstd_\u03b6 /= mean_Q3[0] ** 2 + mean_Q3[1] ** 2\nstd_\u03b6 = np.sqrt(std_\u03b6)\n\nstd_\u03b7 = (std_Q3[1] * mean_Q3[0]) ** 2 + (std_Q3[0] * mean_Q3[1]) ** 2\nstd_\u03b7 /= (mean_Q3[0] ** 2 + mean_Q3[1] ** 2) ** 2\nstd_\u03b7 = (4 / np.pi) * np.sqrt(std_\u03b7)\n\nprint(\"Q3 statistics\")\nprint(f\"\\tpopulation = {100 * int_Q3 / (int_Q4 + int_Q3)}%\")\nprint(\"\\tmean\\n\\t\\t\u03b6:\\t{0}\\n\\t\\t\u03b7:\\t{1}\\n\\t\\tiso:\\t{2}\".format(*mean_\u03b6\u03b7_Q3, mean_Q3[2]))\nprint(\n    \"\\tstandard deviation\\n\\t\\t\u03b6:\\t{0}\\n\\t\\t\u03b7:\\t{1}\\n\\t\\tiso:\\t{2}\".format(\n        std_\u03b6, std_\u03b7, std_Q3[2]\n    )\n)"
      ]
    },
    {
      "cell_type": "markdown",
      "metadata": {},
      "source": [
        "## Result cross-verification\n\nThe reported value for the Qn-species distribution from Baltisberger `et. al.` [#f1]_\nis listed below and is consistent with the above result.\n\n.. list-table::\n   :widths: 7 15 28 25 25\n   :header-rows: 1\n\n   * - Species\n     - Yield\n     - Isotropic chemical shift, $\\delta_\\text{iso}$\n     - Shielding anisotropy, $\\zeta_\\sigma$:\n     - Shielding asymmetry, $\\eta_\\sigma$:\n\n   * - Q4\n     - $57.8 \\pm 0.1$ %\n     - $-103.7 \\pm 5.31$ ppm\n     - 0 ppm (fixed)\n     - 0 (fixed)\n\n   * - Q3\n     - $42.2 \\pm 0.2$ %\n     - $-90.5 \\pm 4.29$ ppm\n     - 79.8 ppm with a 7.1 ppm Gaussian broadening\n     - 0 (fixed)\n\n\n"
      ]
    },
    {
      "cell_type": "markdown",
      "metadata": {},
      "source": [
        "## Convert the 3D tensor distribution in Haeberlen parameters\nYou may re-bin the 3D tensor parameter distribution from a\n$\\rho(\\delta_\\text{iso}, x, y)$ distribution to\n$\\rho(\\delta_\\text{iso}, \\zeta_\\sigma, \\eta_\\sigma)$ distribution as follows.\n\n"
      ]
    },
    {
      "cell_type": "code",
      "execution_count": null,
      "metadata": {
        "collapsed": false
      },
      "outputs": [],
      "source": [
        "# Create the zeta and eta dimensions, as shown below.\nzeta = cp.as_dimension(np.arange(40) * 4 - 40, unit=\"ppm\", label=\"zeta\")\neta = cp.as_dimension(np.arange(16) / 15, label=\"eta\")\n\n# Use the `to_Haeberlen_grid` function to convert the tensor parameter distribution.\nfsol_Hae = to_Haeberlen_grid(f_sol, zeta, eta)"
      ]
    },
    {
      "cell_type": "markdown",
      "metadata": {},
      "source": [
        "### The 3D plot\n\n"
      ]
    },
    {
      "cell_type": "code",
      "execution_count": null,
      "metadata": {
        "collapsed": false
      },
      "outputs": [],
      "source": [
        "plt.figure(figsize=(5, 4.4))\nax = plt.subplot(projection=\"3d\")\nplot_3d(ax, fsol_Hae, x_lim=[0, 1], y_lim=[-40, 120], z_lim=[-50, -150], alpha=0.4)\nplt.tight_layout()\nplt.show()"
      ]
    },
    {
      "cell_type": "markdown",
      "metadata": {},
      "source": [
        "## References\n\n.. [#f1] Baltisberger, J. H., Florian, P., Keeler, E. G., Phyo, P. A., Sanders, K. J.,\n      Grandinetti, P. J.. Modifier cation effects on 29Si nuclear shielding\n      anisotropies in silicate glasses, J. Magn. Reson., **268**, (2016), 95 \u2013 106.\n      `doi:10.1016/j.jmr.2016.05.003 <https://doi.org/10.1016/j.jmr.2016.05.003>`_.\n\n"
      ]
    }
  ],
  "metadata": {
    "kernelspec": {
      "display_name": "Python 3",
      "language": "python",
      "name": "python3"
    },
    "language_info": {
      "codemirror_mode": {
        "name": "ipython",
        "version": 3
      },
      "file_extension": ".py",
      "mimetype": "text/x-python",
      "name": "python",
      "nbconvert_exporter": "python",
      "pygments_lexer": "ipython3",
      "version": "3.9.13"
    }
  },
  "nbformat": 4,
  "nbformat_minor": 0
}