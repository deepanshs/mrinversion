{
  "cells": [
    {
      "cell_type": "code",
      "execution_count": null,
      "metadata": {
        "collapsed": false
      },
      "outputs": [],
      "source": [
        "# This cell is added by sphinx-gallery\n\n%matplotlib inline\n\nimport mrinversion\nprint(f'You are using mrinversion v{mrinversion.__version__}')"
      ]
    },
    {
      "cell_type": "markdown",
      "metadata": {},
      "source": [
        "\n# Unimodal distribution\n"
      ]
    },
    {
      "cell_type": "markdown",
      "metadata": {},
      "source": [
        "The following example demonstrates the statistical learning based determination of\nthe nuclear shielding tensor parameters from a one-dimensional cross-section of a\nspinning sideband correlation spectrum. In this example, we use a synthetic\nsideband amplitude spectrum from a unimodal tensor distribution.\n\n## Before getting started\n\nImport all relevant packages.\n\n"
      ]
    },
    {
      "cell_type": "code",
      "execution_count": null,
      "metadata": {
        "collapsed": false
      },
      "outputs": [],
      "source": [
        "import csdmpy as cp\nimport matplotlib.pyplot as plt\nimport numpy as np\nfrom pylab import rcParams\n\nfrom mrinversion.kernel.nmr import ShieldingPALineshape\nfrom mrinversion.linear_model import SmoothLasso, SmoothLassoCV, TSVDCompression\nfrom mrinversion.utils import get_polar_grids\n\n# Setup for the matplotlib figures\nrcParams[\"figure.figsize\"] = 4.5, 3.5\nrcParams[\"font.size\"] = 9\n\n\n# function for 2D x-y plot.\ndef plot2D(ax, csdm_object, title=\"\"):\n    # convert the dimension coordinates of the csdm_object from Hz to pmm.\n    csdm_object.dimensions[0].to(\"ppm\", \"nmr_frequency_ratio\")\n    csdm_object.dimensions[1].to(\"ppm\", \"nmr_frequency_ratio\")\n\n    levels = (np.arange(9) + 1) / 10\n    ax.contourf(csdm_object, cmap=\"gist_ncar\", levels=levels)\n    ax.grid(None)\n    ax.set_title(title)\n    get_polar_grids(ax)\n    ax.set_aspect(\"equal\")"
      ]
    },
    {
      "cell_type": "markdown",
      "metadata": {},
      "source": [
        "## Dataset setup\n\n### Import the dataset\n\nLoad the dataset. Here, we import the dataset as a CSDM data-object.\n\n"
      ]
    },
    {
      "cell_type": "code",
      "execution_count": null,
      "metadata": {
        "collapsed": false
      },
      "outputs": [],
      "source": [
        "# the 1D spinning sideband cross-section data in csdm format\nfilename = \"https://osu.box.com/shared/static/kehokr5op0amkfp5auyd498nblcdr1xy.csdf\"\ndata_object = cp.load(filename)\n\n# convert the data dimension from `Hz` to `ppm`.\ndata_object.dimensions[0].to(\"ppm\", \"nmr_frequency_ratio\")"
      ]
    },
    {
      "cell_type": "markdown",
      "metadata": {},
      "source": [
        "The variable ``data_object`` holds the 1D dataset. For comparison, let's\nalso import the true tensor parameter distribution from which the synthetic 1D pure\nanisotropic spinning sideband cross-section amplitudes is simulated.\n\n"
      ]
    },
    {
      "cell_type": "code",
      "execution_count": null,
      "metadata": {
        "collapsed": false
      },
      "outputs": [],
      "source": [
        "datafile = \"https://osu.box.com/shared/static/s5wpm26w4cv3w64qjhouqu458ch4z0nd.csdf\"\ntrue_data_object = cp.load(datafile)"
      ]
    },
    {
      "cell_type": "markdown",
      "metadata": {},
      "source": [
        "The plot of the 1D sideband cross-section along with the 2D true tensor parameter\ndistribution of the synthetic dataset is shown below.\n\n"
      ]
    },
    {
      "cell_type": "code",
      "execution_count": null,
      "metadata": {
        "collapsed": false
      },
      "outputs": [],
      "source": [
        "# the plot of the 1D MAF cross-section dataset.\n_, ax = plt.subplots(1, 2, figsize=(9, 3.5), subplot_kw={\"projection\": \"csdm\"})\nax[0].plot(data_object)\nax[0].invert_xaxis()\n\n# the plot of the true tensor distribution.\nplot2D(ax[1], true_data_object, title=\"True distribution\")\nplt.tight_layout()\nplt.show()"
      ]
    },
    {
      "cell_type": "markdown",
      "metadata": {},
      "source": [
        "## Linear Inversion setup\n\n### Dimension setup\n\n**Anisotropic-dimension:** The dimension of the dataset that holds the pure\nanisotropic spinning sidebands.\n\n"
      ]
    },
    {
      "cell_type": "code",
      "execution_count": null,
      "metadata": {
        "collapsed": false
      },
      "outputs": [],
      "source": [
        "anisotropic_dimension = data_object.dimensions[0]"
      ]
    },
    {
      "cell_type": "markdown",
      "metadata": {},
      "source": [
        "**x-y dimensions:** The two inverse dimensions corresponding to the `x` and\n`y`-axis of the `x`-`y` grid.\n\n"
      ]
    },
    {
      "cell_type": "code",
      "execution_count": null,
      "metadata": {
        "collapsed": false
      },
      "outputs": [],
      "source": [
        "inverse_dimension = [\n    cp.LinearDimension(count=25, increment=\"370 Hz\", label=\"x\"),  # the `x`-dimension.\n    cp.LinearDimension(count=25, increment=\"370 Hz\", label=\"y\"),  # the `y`-dimension.\n]"
      ]
    },
    {
      "cell_type": "markdown",
      "metadata": {},
      "source": [
        "### Generating the kernel\n\nFor sideband datasets, the line-shape kernel corresponds to the pure anisotropic\nnuclear shielding spinning sideband spectra. Use the\n:class:`~mrinversion.kernel.nmr.ShieldingPALineshape` class to generate\nthe sideband kernel.\n\n"
      ]
    },
    {
      "cell_type": "code",
      "execution_count": null,
      "metadata": {
        "collapsed": false
      },
      "outputs": [],
      "source": [
        "lineshape = ShieldingPALineshape(\n    anisotropic_dimension=anisotropic_dimension,\n    inverse_dimension=inverse_dimension,\n    channel=\"29Si\",\n    magnetic_flux_density=\"9.4 T\",\n    rotor_angle=\"54.735 deg\",\n    rotor_frequency=\"625 Hz\",\n    number_of_sidebands=32,\n)"
      ]
    },
    {
      "cell_type": "markdown",
      "metadata": {},
      "source": [
        "Here, ``lineshape`` is an instance of the\n:class:`~mrinversion.kernel.nmr.ShieldingPALineshape` class. The required\narguments of this class are the `anisotropic_dimension`, `inverse_dimension`, and\n`channel`. We have already defined the first two arguments in the previous\nsub-section. The value of the `channel` argument is the observed nucleus. In this\nexample, this value is '29Si'.\nThe remaining arguments, such as the `magnetic_flux_density`, `rotor_angle`,\nand `rotor_frequency`, are set to match the conditions under which the spectrum\nwas acquired. Note, the rotor frequency is the effective anisotropic modulation\nfrequency, which may be less than the physical rotor frequency. The\nnumber of sidebands is usually the number of points along the sideband dimension.\n\nOnce the ShieldingPALineshape instance is created, use the\n:meth:`~mrinversion.kernel.nmr.ShieldingPALineshape.kernel` method of the\ninstance to generate the sideband kernel.\n\n"
      ]
    },
    {
      "cell_type": "code",
      "execution_count": null,
      "metadata": {
        "collapsed": false
      },
      "outputs": [],
      "source": [
        "K = lineshape.kernel(supersampling=1)"
      ]
    },
    {
      "cell_type": "markdown",
      "metadata": {},
      "source": [
        "### Data Compression\n\nData compression is optional but recommended. It may reduce the size of the\ninverse problem and, thus, further computation time.\n\n"
      ]
    },
    {
      "cell_type": "code",
      "execution_count": null,
      "metadata": {
        "collapsed": false
      },
      "outputs": [],
      "source": [
        "new_system = TSVDCompression(K, data_object)\ncompressed_K = new_system.compressed_K\ncompressed_s = new_system.compressed_s\n\nprint(f\"truncation_index = {new_system.truncation_index}\")"
      ]
    },
    {
      "cell_type": "markdown",
      "metadata": {},
      "source": [
        "## Solving the inverse problem\n\n### Smooth-LASSO problem\n\nSolve the smooth-lasso problem. You may choose to skip this step and proceed to the\nstatistical learning method. Usually, the statistical learning method is a\ntime-consuming process that solves the smooth-lasso problem over a range of\npredefined hyperparameters.\nIf you are unsure what range of hyperparameters to use, you can use this step for\na quick look into the possible solution by giving a guess value for the $\\alpha$\nand $\\lambda$ hyperparameters, and then decide on the hyperparameters range\naccordingly.\n\n"
      ]
    },
    {
      "cell_type": "code",
      "execution_count": null,
      "metadata": {
        "collapsed": false
      },
      "outputs": [],
      "source": [
        "# guess alpha and lambda values.\ns_lasso = SmoothLasso(\n    hyperparameters={\"alpha\": 5e-5, \"lambda\": 5e-6},\n    inverse_dimension=inverse_dimension,\n)\ns_lasso.fit(K=compressed_K, s=compressed_s)\nf_sol = s_lasso.f"
      ]
    },
    {
      "cell_type": "markdown",
      "metadata": {},
      "source": [
        "Here, ``f_sol`` is the solution corresponding to hyperparameters\n$\\alpha=5\\times10^{-5}$ and $\\lambda=5\\times 10^{-6}$. The plot of this\nsolution is\n\n"
      ]
    },
    {
      "cell_type": "code",
      "execution_count": null,
      "metadata": {
        "collapsed": false
      },
      "outputs": [],
      "source": [
        "_, ax = plt.subplots(1, 2, figsize=(9, 3.5), subplot_kw={\"projection\": \"csdm\"})\n\n# the plot of the guess tensor distribution solution.\nplot2D(ax[0], f_sol / f_sol.max(), title=\"Guess distribution\")\n\n# the plot of the true tensor distribution.\nplot2D(ax[1], true_data_object, title=\"True distribution\")\nplt.tight_layout()\nplt.show()"
      ]
    },
    {
      "cell_type": "markdown",
      "metadata": {},
      "source": [
        "### Predicted spectrum\n\nYou may also evaluate the predicted spectrum from the above solution following\n\n"
      ]
    },
    {
      "cell_type": "code",
      "execution_count": null,
      "metadata": {
        "collapsed": false
      },
      "outputs": [],
      "source": [
        "residuals = s_lasso.residuals(K, data_object)\npredicted_spectrum = data_object - residuals\n\nplt.figure(figsize=(4, 3))\nplt.gca(projection=\"csdm\")\nplt.plot(data_object, color=\"black\", label=\"spectrum\")  # the original spectrum\nplt.plot(predicted_spectrum, color=\"red\", label=\"prediction\")  # the predicted spectrum\nplt.gca().invert_xaxis()\nplt.legend()\nplt.tight_layout()\nplt.show()"
      ]
    },
    {
      "cell_type": "markdown",
      "metadata": {},
      "source": [
        "As you can see from the predicted spectrum, our guess isn't far from the optimum\nhyperparameters. Let's create a search grid about the guess hyperparameters and run\na cross-validation method for selection.\n\n## Statistical learning of the tensors\n\n### Smooth LASSO cross-validation\n\nCreate a guess range of values for the $\\alpha$ and $\\lambda$\nhyperparameters.\nThe following code generates a range of $\\lambda$ and $\\alpha$ values\nthat are uniformly sampled on the log scale.\n\n"
      ]
    },
    {
      "cell_type": "code",
      "execution_count": null,
      "metadata": {
        "collapsed": false
      },
      "outputs": [],
      "source": [
        "lambdas = 10 ** (-5 - 1 * (np.arange(6) / 5))\nalphas = 10 ** (-4 - 2 * (np.arange(6) / 5))\n\n# set up cross validation smooth lasso method\ns_lasso_cv = SmoothLassoCV(\n    alphas=alphas,\n    lambdas=lambdas,\n    inverse_dimension=inverse_dimension,\n    sigma=0.005,\n    folds=10,\n)\n# run the fit using the compressed kernel and compressed signal.\ns_lasso_cv.fit(compressed_K, compressed_s)"
      ]
    },
    {
      "cell_type": "markdown",
      "metadata": {},
      "source": [
        "### The optimum hyper-parameters\n\nUse the :attr:`~mrinversion.linear_model.SmoothLassoCV.hyperparameters` attribute of\nthe instance for the optimum hyper-parameters, $\\alpha$ and $\\lambda$,\ndetermined from the cross-validation.\n\n"
      ]
    },
    {
      "cell_type": "code",
      "execution_count": null,
      "metadata": {
        "collapsed": false
      },
      "outputs": [],
      "source": [
        "print(s_lasso_cv.hyperparameters)"
      ]
    },
    {
      "cell_type": "markdown",
      "metadata": {},
      "source": [
        "### The cross-validation surface\n\nOptionally, you may want to visualize the cross-validation error curve/surface. Use\nthe :attr:`~mrinversion.linear_model.SmoothLassoCV.cross_validation_curve` attribute\nof the instance, as follows. The cross-validation metric is the mean square error\n(MSE).\n\n"
      ]
    },
    {
      "cell_type": "code",
      "execution_count": null,
      "metadata": {
        "collapsed": false
      },
      "outputs": [],
      "source": [
        "cv_curve = s_lasso_cv.cross_validation_curve\n\n# plot of the cross-validation curve\nplt.figure(figsize=(5, 3.5))\nax = plt.subplot(projection=\"csdm\")\nax.contour(np.log10(s_lasso_cv.cross_validation_curve), levels=25)\nax.scatter(\n    -np.log10(s_lasso_cv.hyperparameters[\"alpha\"]),\n    -np.log10(s_lasso_cv.hyperparameters[\"lambda\"]),\n    marker=\"x\",\n    color=\"k\",\n)\nplt.tight_layout(pad=0.5)\nplt.show()"
      ]
    },
    {
      "cell_type": "markdown",
      "metadata": {},
      "source": [
        "### The optimum solution\n\nThe :attr:`~mrinversion.linear_model.SmoothLassoCV.f` attribute of the instance holds\nthe solution.\n\n"
      ]
    },
    {
      "cell_type": "code",
      "execution_count": null,
      "metadata": {
        "collapsed": false
      },
      "outputs": [],
      "source": [
        "f_sol = s_lasso_cv.f"
      ]
    },
    {
      "cell_type": "markdown",
      "metadata": {},
      "source": [
        "The corresponding plot of the solution, along with the true tensor distribution, is\nshown below.\n\n"
      ]
    },
    {
      "cell_type": "code",
      "execution_count": null,
      "metadata": {
        "collapsed": false
      },
      "outputs": [],
      "source": [
        "_, ax = plt.subplots(1, 2, figsize=(9, 3.5), subplot_kw={\"projection\": \"csdm\"})\n\n# the plot of the tensor distribution solution.\nplot2D(ax[0], f_sol / f_sol.max(), title=\"Optimum distribution\")\n\n# the plot of the true tensor distribution.\nplot2D(ax[1], true_data_object, title=\"True distribution\")\nplt.tight_layout()\nplt.show()"
      ]
    }
  ],
  "metadata": {
    "kernelspec": {
      "display_name": "Python 3",
      "language": "python",
      "name": "python3"
    },
    "language_info": {
      "codemirror_mode": {
        "name": "ipython",
        "version": 3
      },
      "file_extension": ".py",
      "mimetype": "text/x-python",
      "name": "python",
      "nbconvert_exporter": "python",
      "pygments_lexer": "ipython3",
      "version": "3.8.5"
    }
  },
  "nbformat": 4,
  "nbformat_minor": 0
}