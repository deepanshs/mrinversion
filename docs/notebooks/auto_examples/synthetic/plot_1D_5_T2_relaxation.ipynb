{
  "cells": [
    {
      "cell_type": "code",
      "execution_count": null,
      "metadata": {
        "collapsed": false
      },
      "outputs": [],
      "source": [
        "# This cell is added by sphinx-gallery\n\n%matplotlib inline\n\nimport mrinversion\nprint(f'You are using mrinversion v{mrinversion.__version__}')"
      ]
    },
    {
      "cell_type": "markdown",
      "metadata": {},
      "source": [
        "\n# Inverse Laplace (ILT) T2 distribution\n"
      ]
    },
    {
      "cell_type": "markdown",
      "metadata": {},
      "source": [
        "The following example demonstrates the statistical learning based determination of\nthe nuclear shielding tensor parameters from a one-dimensional cross-section of a\nspinning sideband correlation spectrum. In this example, we use a synthetic\nsideband amplitude spectrum from a unimodal tensor distribution.\n\n## Before getting started\n\nImport all relevant packages.\n\n"
      ]
    },
    {
      "cell_type": "code",
      "execution_count": null,
      "metadata": {
        "collapsed": false
      },
      "outputs": [],
      "source": [
        "import csdmpy as cp\nimport matplotlib.pyplot as plt\nimport numpy as np\n\nfrom mrinversion.kernel import relaxation\nfrom mrinversion.linear_model import LassoFistaCV, TSVDCompression"
      ]
    },
    {
      "cell_type": "markdown",
      "metadata": {},
      "source": [
        "## Dataset setup\n\n### Generate a dataset\n\n\n"
      ]
    },
    {
      "cell_type": "code",
      "execution_count": null,
      "metadata": {
        "collapsed": false
      },
      "outputs": [],
      "source": [
        "time = np.arange(128) * 0.3 + 0.01  # in s\nT2_samples = [1, 10]  # in s\nT2_weights = [1, 2]\n\nsignal = 0\nfor wt, t2 in zip(T2_weights, T2_samples):\n    signal += wt * np.exp(-time/t2)\n\nsignal += np.random.normal(0, 0.01, size=signal.size)\nsignal = cp.as_csdm(signal)\nsignal.dimensions[0] = cp.as_dimension(array=time, unit='s')\n\nsignal.plot()\nplt.tight_layout()\nplt.show()"
      ]
    },
    {
      "cell_type": "markdown",
      "metadata": {},
      "source": [
        "## Linear Inversion setup\n\n### Generating the kernel\n\n\n"
      ]
    },
    {
      "cell_type": "code",
      "execution_count": null,
      "metadata": {
        "collapsed": false
      },
      "outputs": [],
      "source": [
        "kernel_dimension = signal.dimensions[0]\n\nrelaxT2 = relaxation.T2(\n    kernel_dimension=kernel_dimension,\n    inverse_dimension=dict(\n        count=64,\n        minimum='1e-2 s',\n        maximum='1e3 s',\n        scale='log',\n        label='log (T2 / s)'\n    )\n)\ninverse_dimension=relaxT2.inverse_dimension\nK = relaxT2.kernel(supersampling=1)\nprint(K.shape)"
      ]
    },
    {
      "cell_type": "markdown",
      "metadata": {},
      "source": [
        "### Data Compression\n\n\n"
      ]
    },
    {
      "cell_type": "code",
      "execution_count": null,
      "metadata": {
        "collapsed": false
      },
      "outputs": [],
      "source": [
        "new_system = TSVDCompression(K, signal)\ncompressed_K = new_system.compressed_K\ncompressed_s = new_system.compressed_s\n\nprint(f\"truncation_index = {new_system.truncation_index}\")"
      ]
    },
    {
      "cell_type": "markdown",
      "metadata": {},
      "source": [
        "## Statistical learning of the tensors\n\n### Fista LASSO cross-validation\n\nCreate a guess range of values for the $\\lambda$\nhyperparameters.\nThe following code generates a range of $\\lambda$ and $\\alpha$ values\nthat are uniformly sampled on the log scale.\n\n"
      ]
    },
    {
      "cell_type": "code",
      "execution_count": null,
      "metadata": {
        "collapsed": false
      },
      "outputs": [],
      "source": [
        "lambdas = 10 ** (-6 + 6 * (np.arange(32) / 31))\n\n# setup the smooth lasso cross-validation class\nf_lasso_cv = LassoFistaCV(\n    lambdas=lambdas,  # A numpy array of lambda values.\n    folds=5,  # The number of folds in n-folds cross-validation.\n    inverse_dimension=inverse_dimension,  # previously defined inverse dimensions.\n    randomize=True,\n    times=15\n    )\n\n# run the fit method on the compressed kernel and compressed data.\nf_lasso_cv.fit(K=compressed_K, s=compressed_s)"
      ]
    },
    {
      "cell_type": "markdown",
      "metadata": {},
      "source": [
        "### The optimum hyper-parameters\n\nUse the :attr:`~mrinversion.linear_model.SmoothLassoCV.hyperparameters` attribute of\nthe instance for the optimum hyper-parameters, $\\alpha$ and $\\lambda$,\ndetermined from the cross-validation.\n\n"
      ]
    },
    {
      "cell_type": "code",
      "execution_count": null,
      "metadata": {
        "collapsed": false
      },
      "outputs": [],
      "source": [
        "print(f_lasso_cv.hyperparameters)"
      ]
    },
    {
      "cell_type": "markdown",
      "metadata": {},
      "source": [
        "### The cross-validation surface\n\nOptionally, you may want to visualize the cross-validation error curve/surface. Use\nthe :attr:`~mrinversion.linear_model.SmoothLassoCV.cross_validation_curve` attribute\nof the instance, as follows. The cross-validation metric is the mean square error\n(MSE).\n\n"
      ]
    },
    {
      "cell_type": "code",
      "execution_count": null,
      "metadata": {
        "collapsed": false
      },
      "outputs": [],
      "source": [
        "f_lasso_cv.cross_validation_curve.plot()\nplt.tight_layout()\nplt.show()"
      ]
    },
    {
      "cell_type": "markdown",
      "metadata": {},
      "source": [
        "### The optimum solution\n\nThe :attr:`~mrinversion.linear_model.SmoothLassoCV.f` attribute of the instance holds\nthe solution.\n\n"
      ]
    },
    {
      "cell_type": "code",
      "execution_count": null,
      "metadata": {
        "collapsed": false
      },
      "outputs": [],
      "source": [
        "f_lasso_cv.f.plot()\n[plt.axvline(np.log10(sample), c='r', linestyle='--') for sample in T2_samples]\nplt.tight_layout()\nplt.show()"
      ]
    }
  ],
  "metadata": {
    "kernelspec": {
      "display_name": "Python 3",
      "language": "python",
      "name": "python3"
    },
    "language_info": {
      "codemirror_mode": {
        "name": "ipython",
        "version": 3
      },
      "file_extension": ".py",
      "mimetype": "text/x-python",
      "name": "python",
      "nbconvert_exporter": "python",
      "pygments_lexer": "ipython3",
      "version": "3.8.11"
    }
  },
  "nbformat": 4,
  "nbformat_minor": 0
}