{
  "cells": [
    {
      "cell_type": "code",
      "execution_count": null,
      "metadata": {
        "collapsed": false
      },
      "outputs": [],
      "source": [
        "# This cell is added by sphinx-gallery\n\n%matplotlib inline\n\nimport mrinversion\nprint(f'You are using mrinversion v{mrinversion.__version__}')"
      ]
    },
    {
      "cell_type": "markdown",
      "metadata": {},
      "source": [
        "\n# Intermediary T2 distribution (Inverse Laplace)\n"
      ]
    },
    {
      "cell_type": "markdown",
      "metadata": {},
      "source": [
        "The following example demonstrates the statistical learning based determination of\nthe NMR T2 relaxation vis inverse Laplace transformation.\n\n## Before getting started\n\nImport all relevant packages.\n\n"
      ]
    },
    {
      "cell_type": "code",
      "execution_count": null,
      "metadata": {
        "collapsed": false
      },
      "outputs": [],
      "source": [
        "import csdmpy as cp\nimport matplotlib.pyplot as plt\nimport numpy as np\n\nfrom mrinversion.kernel import relaxation\nfrom mrinversion.linear_model import LassoFistaCV, TSVDCompression"
      ]
    },
    {
      "cell_type": "markdown",
      "metadata": {},
      "source": [
        "## Dataset setup\nLoad the dataset\n''''''''''''''''\n\n"
      ]
    },
    {
      "cell_type": "code",
      "execution_count": null,
      "metadata": {
        "collapsed": false
      },
      "outputs": [],
      "source": [
        "domain = \"https://sandbox.zenodo.org/record/1065394/files\"\nfilename = f\"{domain}/test2_signal.csdf\"\nsignal = cp.load(filename)\nsigma = 0.0008"
      ]
    },
    {
      "cell_type": "markdown",
      "metadata": {},
      "source": [
        "The variable ``signal`` holds the 1D dataset. For comparison, let's\nalso import the true t2 distribution from which the synthetic 1D signal\ndecay is simulated.\n\n"
      ]
    },
    {
      "cell_type": "code",
      "execution_count": null,
      "metadata": {
        "collapsed": false
      },
      "outputs": [],
      "source": [
        "datafile = f\"{domain}/test2_t2.csdf\"\ntrue_t2_dist = cp.load(datafile)\n\nplt.figure(figsize=(4.5, 3.5))\nsignal.plot()\nplt.tight_layout()\nplt.show()"
      ]
    },
    {
      "cell_type": "markdown",
      "metadata": {},
      "source": [
        "## Linear Inversion setup\nGenerating the kernel\n'''''''''''''''''''''\n\n"
      ]
    },
    {
      "cell_type": "code",
      "execution_count": null,
      "metadata": {
        "collapsed": false
      },
      "outputs": [],
      "source": [
        "kernel_dimension = signal.dimensions[0]\n\nrelaxT2 = relaxation.T2(\n    kernel_dimension=kernel_dimension,\n    inverse_dimension=dict(\n        count=64, minimum=\"1e-2 s\", maximum=\"1e3 s\", scale=\"log\", label=\"log (T2 / s)\"\n    ),\n)\ninverse_dimension = relaxT2.inverse_dimension\nK = relaxT2.kernel(supersampling=20)"
      ]
    },
    {
      "cell_type": "markdown",
      "metadata": {},
      "source": [
        "### Data Compression\n\n"
      ]
    },
    {
      "cell_type": "code",
      "execution_count": null,
      "metadata": {
        "collapsed": false
      },
      "outputs": [],
      "source": [
        "new_system = TSVDCompression(K, signal)\ncompressed_K = new_system.compressed_K\ncompressed_s = new_system.compressed_s\n\nprint(f\"truncation_index = {new_system.truncation_index}\")"
      ]
    },
    {
      "cell_type": "markdown",
      "metadata": {},
      "source": [
        "### Fista LASSO cross-validation\nCreate a guess range of values for the $\\lambda$ hyperparameters.\n\n"
      ]
    },
    {
      "cell_type": "code",
      "execution_count": null,
      "metadata": {
        "collapsed": false
      },
      "outputs": [],
      "source": [
        "lambdas = 10 ** (-7 + 6 * (np.arange(64) / 63))\n\n# setup the smooth lasso cross-validation class\nf_lasso_cv = LassoFistaCV(\n    lambdas=lambdas,  # A numpy array of lambda values.\n    folds=5,  # The number of folds in n-folds cross-validation.\n    sigma=sigma,  # noise standard deviation\n    inverse_dimension=inverse_dimension,  # previously defined inverse dimensions.\n)\n\n# run the fit method on the compressed kernel and compressed data.\nf_lasso_cv.fit(K=compressed_K, s=compressed_s)"
      ]
    },
    {
      "cell_type": "markdown",
      "metadata": {},
      "source": [
        "### The optimum hyper-parameters\n\n"
      ]
    },
    {
      "cell_type": "code",
      "execution_count": null,
      "metadata": {
        "collapsed": false
      },
      "outputs": [],
      "source": [
        "print(f_lasso_cv.hyperparameters)"
      ]
    },
    {
      "cell_type": "markdown",
      "metadata": {},
      "source": [
        "### The cross-validation curve\n\n"
      ]
    },
    {
      "cell_type": "code",
      "execution_count": null,
      "metadata": {
        "collapsed": false
      },
      "outputs": [],
      "source": [
        "plt.figure(figsize=(4.5, 3.5))\nf_lasso_cv.cv_plot()\nplt.tight_layout()\nplt.show()"
      ]
    },
    {
      "cell_type": "markdown",
      "metadata": {},
      "source": [
        "### The optimum solution\n\n"
      ]
    },
    {
      "cell_type": "code",
      "execution_count": null,
      "metadata": {
        "collapsed": false
      },
      "outputs": [],
      "source": [
        "sol = f_lasso_cv.f\n\nplt.figure(figsize=(4, 3))\nplt.subplot(projection=\"csdm\")\nplt.plot(true_t2_dist / true_t2_dist.max(), label=\"true\")\nplt.plot(sol / sol.max(), label=\"opt solution\")\nplt.legend()\nplt.grid()\nplt.tight_layout()\nplt.show()"
      ]
    },
    {
      "cell_type": "markdown",
      "metadata": {},
      "source": [
        "### Residuals\n\n"
      ]
    },
    {
      "cell_type": "code",
      "execution_count": null,
      "metadata": {
        "collapsed": false
      },
      "outputs": [],
      "source": [
        "residuals = f_lasso_cv.residuals(K=K, s=signal)\nprint(residuals.std())\n\nplt.figure(figsize=(4.5, 3.5))\nresiduals.plot()\nplt.tight_layout()\nplt.show()"
      ]
    }
  ],
  "metadata": {
    "kernelspec": {
      "display_name": "Python 3",
      "language": "python",
      "name": "python3"
    },
    "language_info": {
      "codemirror_mode": {
        "name": "ipython",
        "version": 3
      },
      "file_extension": ".py",
      "mimetype": "text/x-python",
      "name": "python",
      "nbconvert_exporter": "python",
      "pygments_lexer": "ipython3",
      "version": "3.9.13"
    }
  },
  "nbformat": 4,
  "nbformat_minor": 0
}